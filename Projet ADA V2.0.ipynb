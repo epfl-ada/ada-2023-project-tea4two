{
 "cells": [
  {
   "cell_type": "code",
   "execution_count": 1,
   "id": "345892f1",
   "metadata": {
    "tags": []
   },
   "outputs": [],
   "source": [
    "import pandas as pd\n",
    "import numpy as np\n",
    "import os\n",
    "import json\n",
    "import ast \n",
    "import matplotlib.pyplot as plt\n",
    "import plotly.express as px\n",
    "from plotly.subplots import make_subplots"
   ]
  },
  {
   "cell_type": "code",
   "execution_count": 2,
   "id": "24196a7e",
   "metadata": {
    "tags": []
   },
   "outputs": [
    {
     "name": "stderr",
     "output_type": "stream",
     "text": [
      "C:\\Users\\paul\\AppData\\Local\\Temp\\ipykernel_24016\\2810662041.py:25: ParserWarning: Length of header or names does not match length of data. This leads to a loss of data with index_col=False.\n",
      "  characterDF = pd.read_table(character_file,names=character_col,index_col=False)\n"
     ]
    }
   ],
   "source": [
    "PATH_IN = './MovieSummaries/'\n",
    "\n",
    "def OpenDf(PATH) :\n",
    "    '''\n",
    "    This function opens the dataframes stored in the file with location PATH\n",
    "    '''\n",
    "    \n",
    "    character_file = os.path.join(PATH_IN, 'character.metadata.tsv')\n",
    "    movie_file = os.path.join(PATH_IN, 'movie.metadata.tsv')\n",
    "    name_file = os.path.join(PATH_IN, 'name.clusters.txt')\n",
    "    plot_file = os.path.join(PATH_IN, 'plot_summaries.txt')\n",
    "    tvtrop_file = os.path.join(PATH_IN, 'tvtropes.clusters.txt')\n",
    "\n",
    "    movie_col= [\"Wikipedia movie ID\",\"Freebase movie ID\",\"Movie name\",\"Movie release date\",\n",
    "                 \"Movie box office revenue\",\"Movie runtime\",\"Movie languages\",\"Movie countries\",\n",
    "                 \"Movie genres\"]\n",
    "\n",
    "    character_col = [\"Wikipedia movie ID\",\"Freebase movie ID\",\"Movie release date\",\"Character Name\",\"Actor DOB\",\n",
    "             \"Actor gender\",\"Actor height\",\"Actor ethnicity\",\"Actor Name\",\n",
    "             \"Actor age at movie release\",\"Freebase character map\"]\n",
    "    name_col = [\"Character Name\",\"Freebase character map ?\"]\n",
    "\n",
    "    plot_col = [\"Wikipedia movie ID\",\"Plot\"]\n",
    "\n",
    "    characterDF = pd.read_table(character_file,names=character_col,index_col=False)\n",
    "    movieDF = pd.read_table(movie_file,names=movie_col,index_col=False)\n",
    "    nameDF = pd.read_csv(name_file, sep=\"\\t\",names=name_col,index_col=False)\n",
    "    plotDF = pd.read_csv(plot_file, sep=\"\\t\",names=plot_col,index_col=False)\n",
    "\n",
    "    tvtrop_f = open(tvtrop_file)\n",
    "    lines = tvtrop_f.readlines()\n",
    "    tvtrop_f.close()\n",
    "    tvtropDF = pd.DataFrame(columns=[\"stereotype\",\"char\",\"movie\",\"id\",\"actor\"])\n",
    "    for line in lines:\n",
    "        char_type,dico = line.split(\"\\t\")\n",
    "        dico = json.loads(dico)\n",
    "        dico[\"stereotype\"] = char_type\n",
    "        tvtropDF = pd.concat([tvtropDF,pd.DataFrame([dico])],ignore_index=True)\n",
    "        \n",
    "    return characterDF,movieDF,nameDF,plotDF,tvtropDF\n",
    "\n",
    "characterDF,movieDF,nameDF,plotDF,tvtropDF = OpenDf(PATH_IN)"
   ]
  },
  {
   "cell_type": "code",
   "execution_count": 3,
   "id": "c2891c60",
   "metadata": {
    "tags": []
   },
   "outputs": [
    {
     "data": {
      "text/html": [
       "<div>\n",
       "<style scoped>\n",
       "    .dataframe tbody tr th:only-of-type {\n",
       "        vertical-align: middle;\n",
       "    }\n",
       "\n",
       "    .dataframe tbody tr th {\n",
       "        vertical-align: top;\n",
       "    }\n",
       "\n",
       "    .dataframe thead th {\n",
       "        text-align: right;\n",
       "    }\n",
       "</style>\n",
       "<table border=\"1\" class=\"dataframe\">\n",
       "  <thead>\n",
       "    <tr style=\"text-align: right;\">\n",
       "      <th></th>\n",
       "      <th>Wikipedia movie ID</th>\n",
       "      <th>Freebase movie ID</th>\n",
       "      <th>Movie release date</th>\n",
       "      <th>Character Name</th>\n",
       "      <th>Actor DOB</th>\n",
       "      <th>Actor gender</th>\n",
       "      <th>Actor height</th>\n",
       "      <th>Actor ethnicity</th>\n",
       "      <th>Actor Name</th>\n",
       "      <th>Actor age at movie release</th>\n",
       "      <th>Freebase character map</th>\n",
       "    </tr>\n",
       "  </thead>\n",
       "  <tbody>\n",
       "    <tr>\n",
       "      <th>0</th>\n",
       "      <td>975900</td>\n",
       "      <td>/m/03vyhn</td>\n",
       "      <td>2001-08-24</td>\n",
       "      <td>Akooshay</td>\n",
       "      <td>1958-08-26</td>\n",
       "      <td>F</td>\n",
       "      <td>1.620</td>\n",
       "      <td>NaN</td>\n",
       "      <td>Wanda De Jesus</td>\n",
       "      <td>42.0</td>\n",
       "      <td>/m/0bgchxw</td>\n",
       "    </tr>\n",
       "    <tr>\n",
       "      <th>1</th>\n",
       "      <td>975900</td>\n",
       "      <td>/m/03vyhn</td>\n",
       "      <td>2001-08-24</td>\n",
       "      <td>Lieutenant Melanie Ballard</td>\n",
       "      <td>1974-08-15</td>\n",
       "      <td>F</td>\n",
       "      <td>1.780</td>\n",
       "      <td>/m/044038p</td>\n",
       "      <td>Natasha Henstridge</td>\n",
       "      <td>27.0</td>\n",
       "      <td>/m/0jys3m</td>\n",
       "    </tr>\n",
       "    <tr>\n",
       "      <th>2</th>\n",
       "      <td>975900</td>\n",
       "      <td>/m/03vyhn</td>\n",
       "      <td>2001-08-24</td>\n",
       "      <td>Desolation Williams</td>\n",
       "      <td>1969-06-15</td>\n",
       "      <td>M</td>\n",
       "      <td>1.727</td>\n",
       "      <td>/m/0x67</td>\n",
       "      <td>Ice Cube</td>\n",
       "      <td>32.0</td>\n",
       "      <td>/m/0jys3g</td>\n",
       "    </tr>\n",
       "    <tr>\n",
       "      <th>3</th>\n",
       "      <td>975900</td>\n",
       "      <td>/m/03vyhn</td>\n",
       "      <td>2001-08-24</td>\n",
       "      <td>Sgt Jericho Butler</td>\n",
       "      <td>1967-09-12</td>\n",
       "      <td>M</td>\n",
       "      <td>1.750</td>\n",
       "      <td>NaN</td>\n",
       "      <td>Jason Statham</td>\n",
       "      <td>33.0</td>\n",
       "      <td>/m/02vchl6</td>\n",
       "    </tr>\n",
       "    <tr>\n",
       "      <th>4</th>\n",
       "      <td>975900</td>\n",
       "      <td>/m/03vyhn</td>\n",
       "      <td>2001-08-24</td>\n",
       "      <td>Bashira Kincaid</td>\n",
       "      <td>1977-09-25</td>\n",
       "      <td>F</td>\n",
       "      <td>1.650</td>\n",
       "      <td>NaN</td>\n",
       "      <td>Clea DuVall</td>\n",
       "      <td>23.0</td>\n",
       "      <td>/m/02vbb3r</td>\n",
       "    </tr>\n",
       "  </tbody>\n",
       "</table>\n",
       "</div>"
      ],
      "text/plain": [
       "   Wikipedia movie ID Freebase movie ID Movie release date  \\\n",
       "0              975900         /m/03vyhn         2001-08-24   \n",
       "1              975900         /m/03vyhn         2001-08-24   \n",
       "2              975900         /m/03vyhn         2001-08-24   \n",
       "3              975900         /m/03vyhn         2001-08-24   \n",
       "4              975900         /m/03vyhn         2001-08-24   \n",
       "\n",
       "               Character Name   Actor DOB Actor gender  Actor height  \\\n",
       "0                    Akooshay  1958-08-26            F         1.620   \n",
       "1  Lieutenant Melanie Ballard  1974-08-15            F         1.780   \n",
       "2         Desolation Williams  1969-06-15            M         1.727   \n",
       "3          Sgt Jericho Butler  1967-09-12            M         1.750   \n",
       "4             Bashira Kincaid  1977-09-25            F         1.650   \n",
       "\n",
       "  Actor ethnicity          Actor Name  Actor age at movie release  \\\n",
       "0             NaN      Wanda De Jesus                        42.0   \n",
       "1      /m/044038p  Natasha Henstridge                        27.0   \n",
       "2         /m/0x67            Ice Cube                        32.0   \n",
       "3             NaN       Jason Statham                        33.0   \n",
       "4             NaN         Clea DuVall                        23.0   \n",
       "\n",
       "  Freebase character map  \n",
       "0             /m/0bgchxw  \n",
       "1              /m/0jys3m  \n",
       "2              /m/0jys3g  \n",
       "3             /m/02vchl6  \n",
       "4             /m/02vbb3r  "
      ]
     },
     "metadata": {},
     "output_type": "display_data"
    },
    {
     "data": {
      "text/html": [
       "<div>\n",
       "<style scoped>\n",
       "    .dataframe tbody tr th:only-of-type {\n",
       "        vertical-align: middle;\n",
       "    }\n",
       "\n",
       "    .dataframe tbody tr th {\n",
       "        vertical-align: top;\n",
       "    }\n",
       "\n",
       "    .dataframe thead th {\n",
       "        text-align: right;\n",
       "    }\n",
       "</style>\n",
       "<table border=\"1\" class=\"dataframe\">\n",
       "  <thead>\n",
       "    <tr style=\"text-align: right;\">\n",
       "      <th></th>\n",
       "      <th>Wikipedia movie ID</th>\n",
       "      <th>Freebase movie ID</th>\n",
       "      <th>Movie name</th>\n",
       "      <th>Movie release date</th>\n",
       "      <th>Movie box office revenue</th>\n",
       "      <th>Movie runtime</th>\n",
       "      <th>Movie languages</th>\n",
       "      <th>Movie countries</th>\n",
       "      <th>Movie genres</th>\n",
       "    </tr>\n",
       "  </thead>\n",
       "  <tbody>\n",
       "    <tr>\n",
       "      <th>0</th>\n",
       "      <td>975900</td>\n",
       "      <td>/m/03vyhn</td>\n",
       "      <td>Ghosts of Mars</td>\n",
       "      <td>2001-08-24</td>\n",
       "      <td>14010832.0</td>\n",
       "      <td>98.0</td>\n",
       "      <td>{\"/m/02h40lc\": \"English Language\"}</td>\n",
       "      <td>{\"/m/09c7w0\": \"United States of America\"}</td>\n",
       "      <td>{\"/m/01jfsb\": \"Thriller\", \"/m/06n90\": \"Science...</td>\n",
       "    </tr>\n",
       "    <tr>\n",
       "      <th>1</th>\n",
       "      <td>3196793</td>\n",
       "      <td>/m/08yl5d</td>\n",
       "      <td>Getting Away with Murder: The JonBenét Ramsey ...</td>\n",
       "      <td>2000-02-16</td>\n",
       "      <td>NaN</td>\n",
       "      <td>95.0</td>\n",
       "      <td>{\"/m/02h40lc\": \"English Language\"}</td>\n",
       "      <td>{\"/m/09c7w0\": \"United States of America\"}</td>\n",
       "      <td>{\"/m/02n4kr\": \"Mystery\", \"/m/03bxz7\": \"Biograp...</td>\n",
       "    </tr>\n",
       "    <tr>\n",
       "      <th>2</th>\n",
       "      <td>28463795</td>\n",
       "      <td>/m/0crgdbh</td>\n",
       "      <td>Brun bitter</td>\n",
       "      <td>1988</td>\n",
       "      <td>NaN</td>\n",
       "      <td>83.0</td>\n",
       "      <td>{\"/m/05f_3\": \"Norwegian Language\"}</td>\n",
       "      <td>{\"/m/05b4w\": \"Norway\"}</td>\n",
       "      <td>{\"/m/0lsxr\": \"Crime Fiction\", \"/m/07s9rl0\": \"D...</td>\n",
       "    </tr>\n",
       "    <tr>\n",
       "      <th>3</th>\n",
       "      <td>9363483</td>\n",
       "      <td>/m/0285_cd</td>\n",
       "      <td>White Of The Eye</td>\n",
       "      <td>1987</td>\n",
       "      <td>NaN</td>\n",
       "      <td>110.0</td>\n",
       "      <td>{\"/m/02h40lc\": \"English Language\"}</td>\n",
       "      <td>{\"/m/07ssc\": \"United Kingdom\"}</td>\n",
       "      <td>{\"/m/01jfsb\": \"Thriller\", \"/m/0glj9q\": \"Erotic...</td>\n",
       "    </tr>\n",
       "    <tr>\n",
       "      <th>4</th>\n",
       "      <td>261236</td>\n",
       "      <td>/m/01mrr1</td>\n",
       "      <td>A Woman in Flames</td>\n",
       "      <td>1983</td>\n",
       "      <td>NaN</td>\n",
       "      <td>106.0</td>\n",
       "      <td>{\"/m/04306rv\": \"German Language\"}</td>\n",
       "      <td>{\"/m/0345h\": \"Germany\"}</td>\n",
       "      <td>{\"/m/07s9rl0\": \"Drama\"}</td>\n",
       "    </tr>\n",
       "  </tbody>\n",
       "</table>\n",
       "</div>"
      ],
      "text/plain": [
       "   Wikipedia movie ID Freebase movie ID  \\\n",
       "0              975900         /m/03vyhn   \n",
       "1             3196793         /m/08yl5d   \n",
       "2            28463795        /m/0crgdbh   \n",
       "3             9363483        /m/0285_cd   \n",
       "4              261236         /m/01mrr1   \n",
       "\n",
       "                                          Movie name Movie release date  \\\n",
       "0                                     Ghosts of Mars         2001-08-24   \n",
       "1  Getting Away with Murder: The JonBenét Ramsey ...         2000-02-16   \n",
       "2                                        Brun bitter               1988   \n",
       "3                                   White Of The Eye               1987   \n",
       "4                                  A Woman in Flames               1983   \n",
       "\n",
       "   Movie box office revenue  Movie runtime  \\\n",
       "0                14010832.0           98.0   \n",
       "1                       NaN           95.0   \n",
       "2                       NaN           83.0   \n",
       "3                       NaN          110.0   \n",
       "4                       NaN          106.0   \n",
       "\n",
       "                      Movie languages  \\\n",
       "0  {\"/m/02h40lc\": \"English Language\"}   \n",
       "1  {\"/m/02h40lc\": \"English Language\"}   \n",
       "2  {\"/m/05f_3\": \"Norwegian Language\"}   \n",
       "3  {\"/m/02h40lc\": \"English Language\"}   \n",
       "4   {\"/m/04306rv\": \"German Language\"}   \n",
       "\n",
       "                             Movie countries  \\\n",
       "0  {\"/m/09c7w0\": \"United States of America\"}   \n",
       "1  {\"/m/09c7w0\": \"United States of America\"}   \n",
       "2                     {\"/m/05b4w\": \"Norway\"}   \n",
       "3             {\"/m/07ssc\": \"United Kingdom\"}   \n",
       "4                    {\"/m/0345h\": \"Germany\"}   \n",
       "\n",
       "                                        Movie genres  \n",
       "0  {\"/m/01jfsb\": \"Thriller\", \"/m/06n90\": \"Science...  \n",
       "1  {\"/m/02n4kr\": \"Mystery\", \"/m/03bxz7\": \"Biograp...  \n",
       "2  {\"/m/0lsxr\": \"Crime Fiction\", \"/m/07s9rl0\": \"D...  \n",
       "3  {\"/m/01jfsb\": \"Thriller\", \"/m/0glj9q\": \"Erotic...  \n",
       "4                            {\"/m/07s9rl0\": \"Drama\"}  "
      ]
     },
     "metadata": {},
     "output_type": "display_data"
    },
    {
     "data": {
      "text/html": [
       "<div>\n",
       "<style scoped>\n",
       "    .dataframe tbody tr th:only-of-type {\n",
       "        vertical-align: middle;\n",
       "    }\n",
       "\n",
       "    .dataframe tbody tr th {\n",
       "        vertical-align: top;\n",
       "    }\n",
       "\n",
       "    .dataframe thead th {\n",
       "        text-align: right;\n",
       "    }\n",
       "</style>\n",
       "<table border=\"1\" class=\"dataframe\">\n",
       "  <thead>\n",
       "    <tr style=\"text-align: right;\">\n",
       "      <th></th>\n",
       "      <th>Character Name</th>\n",
       "      <th>Freebase character map ?</th>\n",
       "    </tr>\n",
       "  </thead>\n",
       "  <tbody>\n",
       "    <tr>\n",
       "      <th>0</th>\n",
       "      <td>Stuart Little</td>\n",
       "      <td>/m/0k3w9c</td>\n",
       "    </tr>\n",
       "    <tr>\n",
       "      <th>1</th>\n",
       "      <td>Stuart Little</td>\n",
       "      <td>/m/0k3wcx</td>\n",
       "    </tr>\n",
       "    <tr>\n",
       "      <th>2</th>\n",
       "      <td>Stuart Little</td>\n",
       "      <td>/m/0k3wbn</td>\n",
       "    </tr>\n",
       "    <tr>\n",
       "      <th>3</th>\n",
       "      <td>John Doe</td>\n",
       "      <td>/m/0jyg35</td>\n",
       "    </tr>\n",
       "    <tr>\n",
       "      <th>4</th>\n",
       "      <td>John Doe</td>\n",
       "      <td>/m/0k2_zn</td>\n",
       "    </tr>\n",
       "  </tbody>\n",
       "</table>\n",
       "</div>"
      ],
      "text/plain": [
       "  Character Name Freebase character map ?\n",
       "0  Stuart Little                /m/0k3w9c\n",
       "1  Stuart Little                /m/0k3wcx\n",
       "2  Stuart Little                /m/0k3wbn\n",
       "3       John Doe                /m/0jyg35\n",
       "4       John Doe                /m/0k2_zn"
      ]
     },
     "metadata": {},
     "output_type": "display_data"
    },
    {
     "data": {
      "text/html": [
       "<div>\n",
       "<style scoped>\n",
       "    .dataframe tbody tr th:only-of-type {\n",
       "        vertical-align: middle;\n",
       "    }\n",
       "\n",
       "    .dataframe tbody tr th {\n",
       "        vertical-align: top;\n",
       "    }\n",
       "\n",
       "    .dataframe thead th {\n",
       "        text-align: right;\n",
       "    }\n",
       "</style>\n",
       "<table border=\"1\" class=\"dataframe\">\n",
       "  <thead>\n",
       "    <tr style=\"text-align: right;\">\n",
       "      <th></th>\n",
       "      <th>Wikipedia movie ID</th>\n",
       "      <th>Plot</th>\n",
       "    </tr>\n",
       "  </thead>\n",
       "  <tbody>\n",
       "    <tr>\n",
       "      <th>0</th>\n",
       "      <td>23890098</td>\n",
       "      <td>Shlykov, a hard-working taxi driver and Lyosha...</td>\n",
       "    </tr>\n",
       "    <tr>\n",
       "      <th>1</th>\n",
       "      <td>31186339</td>\n",
       "      <td>The nation of Panem consists of a wealthy Capi...</td>\n",
       "    </tr>\n",
       "    <tr>\n",
       "      <th>2</th>\n",
       "      <td>20663735</td>\n",
       "      <td>Poovalli Induchoodan  is sentenced for six yea...</td>\n",
       "    </tr>\n",
       "    <tr>\n",
       "      <th>3</th>\n",
       "      <td>2231378</td>\n",
       "      <td>The Lemon Drop Kid , a New York City swindler,...</td>\n",
       "    </tr>\n",
       "    <tr>\n",
       "      <th>4</th>\n",
       "      <td>595909</td>\n",
       "      <td>Seventh-day Adventist Church pastor Michael Ch...</td>\n",
       "    </tr>\n",
       "  </tbody>\n",
       "</table>\n",
       "</div>"
      ],
      "text/plain": [
       "   Wikipedia movie ID                                               Plot\n",
       "0            23890098  Shlykov, a hard-working taxi driver and Lyosha...\n",
       "1            31186339  The nation of Panem consists of a wealthy Capi...\n",
       "2            20663735  Poovalli Induchoodan  is sentenced for six yea...\n",
       "3             2231378  The Lemon Drop Kid , a New York City swindler,...\n",
       "4              595909  Seventh-day Adventist Church pastor Michael Ch..."
      ]
     },
     "metadata": {},
     "output_type": "display_data"
    },
    {
     "data": {
      "text/html": [
       "<div>\n",
       "<style scoped>\n",
       "    .dataframe tbody tr th:only-of-type {\n",
       "        vertical-align: middle;\n",
       "    }\n",
       "\n",
       "    .dataframe tbody tr th {\n",
       "        vertical-align: top;\n",
       "    }\n",
       "\n",
       "    .dataframe thead th {\n",
       "        text-align: right;\n",
       "    }\n",
       "</style>\n",
       "<table border=\"1\" class=\"dataframe\">\n",
       "  <thead>\n",
       "    <tr style=\"text-align: right;\">\n",
       "      <th></th>\n",
       "      <th>stereotype</th>\n",
       "      <th>char</th>\n",
       "      <th>movie</th>\n",
       "      <th>id</th>\n",
       "      <th>actor</th>\n",
       "    </tr>\n",
       "  </thead>\n",
       "  <tbody>\n",
       "    <tr>\n",
       "      <th>0</th>\n",
       "      <td>absent_minded_professor</td>\n",
       "      <td>Professor Philip Brainard</td>\n",
       "      <td>Flubber</td>\n",
       "      <td>/m/0jy9q0</td>\n",
       "      <td>Robin Williams</td>\n",
       "    </tr>\n",
       "    <tr>\n",
       "      <th>1</th>\n",
       "      <td>absent_minded_professor</td>\n",
       "      <td>Professor Keenbean</td>\n",
       "      <td>Richie Rich</td>\n",
       "      <td>/m/02vchl3</td>\n",
       "      <td>Michael McShane</td>\n",
       "    </tr>\n",
       "    <tr>\n",
       "      <th>2</th>\n",
       "      <td>absent_minded_professor</td>\n",
       "      <td>Dr. Reinhardt Lane</td>\n",
       "      <td>The Shadow</td>\n",
       "      <td>/m/0k6fkc</td>\n",
       "      <td>Ian McKellen</td>\n",
       "    </tr>\n",
       "    <tr>\n",
       "      <th>3</th>\n",
       "      <td>absent_minded_professor</td>\n",
       "      <td>Dr. Harold Medford</td>\n",
       "      <td>Them!</td>\n",
       "      <td>/m/0k6_br</td>\n",
       "      <td>Edmund Gwenn</td>\n",
       "    </tr>\n",
       "    <tr>\n",
       "      <th>4</th>\n",
       "      <td>absent_minded_professor</td>\n",
       "      <td>Daniel Jackson</td>\n",
       "      <td>Stargate</td>\n",
       "      <td>/m/0k3rhh</td>\n",
       "      <td>James Spader</td>\n",
       "    </tr>\n",
       "  </tbody>\n",
       "</table>\n",
       "</div>"
      ],
      "text/plain": [
       "                stereotype                       char        movie  \\\n",
       "0  absent_minded_professor  Professor Philip Brainard      Flubber   \n",
       "1  absent_minded_professor         Professor Keenbean  Richie Rich   \n",
       "2  absent_minded_professor         Dr. Reinhardt Lane   The Shadow   \n",
       "3  absent_minded_professor         Dr. Harold Medford        Them!   \n",
       "4  absent_minded_professor             Daniel Jackson     Stargate   \n",
       "\n",
       "           id            actor  \n",
       "0   /m/0jy9q0   Robin Williams  \n",
       "1  /m/02vchl3  Michael McShane  \n",
       "2   /m/0k6fkc     Ian McKellen  \n",
       "3   /m/0k6_br     Edmund Gwenn  \n",
       "4   /m/0k3rhh     James Spader  "
      ]
     },
     "metadata": {},
     "output_type": "display_data"
    }
   ],
   "source": [
    "display(characterDF.head(),movieDF.head(),nameDF.head(),plotDF.head(),tvtropDF.head())"
   ]
  },
  {
   "cell_type": "code",
   "execution_count": 4,
   "id": "22bcd12e",
   "metadata": {
    "tags": []
   },
   "outputs": [
    {
     "data": {
      "text/plain": [
       "0        {\"/m/02h40lc\": \"English Language\"}\n",
       "1        {\"/m/02h40lc\": \"English Language\"}\n",
       "2        {\"/m/05f_3\": \"Norwegian Language\"}\n",
       "3        {\"/m/02h40lc\": \"English Language\"}\n",
       "4         {\"/m/04306rv\": \"German Language\"}\n",
       "                        ...                \n",
       "81736    {\"/m/02h40lc\": \"English Language\"}\n",
       "81737    {\"/m/02h40lc\": \"English Language\"}\n",
       "81738    {\"/m/02h40lc\": \"English Language\"}\n",
       "81739     {\"/m/03_9r\": \"Japanese Language\"}\n",
       "81740    {\"/m/02h40lc\": \"English Language\"}\n",
       "Name: Movie languages, Length: 81741, dtype: object"
      ]
     },
     "execution_count": 4,
     "metadata": {},
     "output_type": "execute_result"
    }
   ],
   "source": [
    "movieDF['Movie languages']"
   ]
  },
  {
   "cell_type": "code",
   "execution_count": 5,
   "id": "9056a30d",
   "metadata": {
    "tags": []
   },
   "outputs": [],
   "source": [
    "# def split_dict(row):\n",
    "#     '''\n",
    "#     This function splits a dictonnary in two distinct lists : list of the keys , list of the values \n",
    "#     '''\n",
    "#     if not row : \n",
    "#         keys, values = [], []\n",
    "#     else : \n",
    "#         keys, values = zip(*row.items())\n",
    "#     return pd.Series({'Keys': list(keys), 'Values': list(values)})\n",
    "\n",
    "# def MovieDF_Treatment(MovieDF) :\n",
    "#     '''\n",
    "#     This function deals with the dataframe MovieDF\n",
    "#     '''\n",
    "#     df = MovieDF.copy(deep = True)\n",
    "#     #Movie languages \n",
    "#     df['Movie languages'] = df['Movie languages'].apply(ast.literal_eval)\n",
    "#     df[['Freebase Language', 'Movie languages']] = df['Movie languages'].apply(split_dict)\n",
    "    \n",
    "#     #Movie countrty \n",
    "#     df['Movie countries'] = df['Movie countries'].apply(ast.literal_eval)\n",
    "#     df[['Freebase country', 'Movie countries']] = df['Movie countries'].apply(split_dict)\n",
    "#     #Movie genres \n",
    "    \n",
    "#     df['Movie genres'] = df['Movie genres'].apply(ast.literal_eval)\n",
    "#     df[['Freebase genre', 'Movie genres']] = df['Movie genres'].apply(split_dict)\n",
    "#     return df \n",
    "\n",
    "\n",
    "# MovieDF_Treatment(movieDF)"
   ]
  },
  {
   "cell_type": "markdown",
   "metadata": {},
   "source": [
    "# Estimation of the high-activity periods of time of human race"
   ]
  },
  {
   "cell_type": "markdown",
   "metadata": {},
   "source": [
    "#### Merge of movie and character datasets as they both have the same column that I am interested in: the release date"
   ]
  },
  {
   "cell_type": "code",
   "execution_count": 9,
   "metadata": {},
   "outputs": [
    {
     "name": "stdout",
     "output_type": "stream",
     "text": [
      "Number of rows in the merged DataFrame: 468080\n"
     ]
    },
    {
     "data": {
      "text/html": [
       "<div>\n",
       "<style scoped>\n",
       "    .dataframe tbody tr th:only-of-type {\n",
       "        vertical-align: middle;\n",
       "    }\n",
       "\n",
       "    .dataframe tbody tr th {\n",
       "        vertical-align: top;\n",
       "    }\n",
       "\n",
       "    .dataframe thead th {\n",
       "        text-align: right;\n",
       "    }\n",
       "</style>\n",
       "<table border=\"1\" class=\"dataframe\">\n",
       "  <thead>\n",
       "    <tr style=\"text-align: right;\">\n",
       "      <th></th>\n",
       "      <th>Wikipedia movie ID</th>\n",
       "      <th>Freebase movie ID</th>\n",
       "      <th>Movie name</th>\n",
       "      <th>Movie release date_x</th>\n",
       "      <th>Movie box office revenue</th>\n",
       "      <th>Movie runtime</th>\n",
       "      <th>Movie languages</th>\n",
       "      <th>Movie countries</th>\n",
       "      <th>Movie genres</th>\n",
       "      <th>Movie release date_y</th>\n",
       "      <th>Character Name</th>\n",
       "      <th>Actor DOB</th>\n",
       "      <th>Actor gender</th>\n",
       "      <th>Actor height</th>\n",
       "      <th>Actor ethnicity</th>\n",
       "      <th>Actor Name</th>\n",
       "      <th>Actor age at movie release</th>\n",
       "      <th>Freebase character map</th>\n",
       "    </tr>\n",
       "  </thead>\n",
       "  <tbody>\n",
       "    <tr>\n",
       "      <th>0</th>\n",
       "      <td>975900</td>\n",
       "      <td>/m/03vyhn</td>\n",
       "      <td>Ghosts of Mars</td>\n",
       "      <td>2001-08-24</td>\n",
       "      <td>14010832.0</td>\n",
       "      <td>98.0</td>\n",
       "      <td>{\"/m/02h40lc\": \"English Language\"}</td>\n",
       "      <td>{\"/m/09c7w0\": \"United States of America\"}</td>\n",
       "      <td>{\"/m/01jfsb\": \"Thriller\", \"/m/06n90\": \"Science...</td>\n",
       "      <td>2001-08-24</td>\n",
       "      <td>Akooshay</td>\n",
       "      <td>1958-08-26</td>\n",
       "      <td>F</td>\n",
       "      <td>1.620</td>\n",
       "      <td>NaN</td>\n",
       "      <td>Wanda De Jesus</td>\n",
       "      <td>42.0</td>\n",
       "      <td>/m/0bgchxw</td>\n",
       "    </tr>\n",
       "    <tr>\n",
       "      <th>1</th>\n",
       "      <td>975900</td>\n",
       "      <td>/m/03vyhn</td>\n",
       "      <td>Ghosts of Mars</td>\n",
       "      <td>2001-08-24</td>\n",
       "      <td>14010832.0</td>\n",
       "      <td>98.0</td>\n",
       "      <td>{\"/m/02h40lc\": \"English Language\"}</td>\n",
       "      <td>{\"/m/09c7w0\": \"United States of America\"}</td>\n",
       "      <td>{\"/m/01jfsb\": \"Thriller\", \"/m/06n90\": \"Science...</td>\n",
       "      <td>2001-08-24</td>\n",
       "      <td>Lieutenant Melanie Ballard</td>\n",
       "      <td>1974-08-15</td>\n",
       "      <td>F</td>\n",
       "      <td>1.780</td>\n",
       "      <td>/m/044038p</td>\n",
       "      <td>Natasha Henstridge</td>\n",
       "      <td>27.0</td>\n",
       "      <td>/m/0jys3m</td>\n",
       "    </tr>\n",
       "    <tr>\n",
       "      <th>2</th>\n",
       "      <td>975900</td>\n",
       "      <td>/m/03vyhn</td>\n",
       "      <td>Ghosts of Mars</td>\n",
       "      <td>2001-08-24</td>\n",
       "      <td>14010832.0</td>\n",
       "      <td>98.0</td>\n",
       "      <td>{\"/m/02h40lc\": \"English Language\"}</td>\n",
       "      <td>{\"/m/09c7w0\": \"United States of America\"}</td>\n",
       "      <td>{\"/m/01jfsb\": \"Thriller\", \"/m/06n90\": \"Science...</td>\n",
       "      <td>2001-08-24</td>\n",
       "      <td>Desolation Williams</td>\n",
       "      <td>1969-06-15</td>\n",
       "      <td>M</td>\n",
       "      <td>1.727</td>\n",
       "      <td>/m/0x67</td>\n",
       "      <td>Ice Cube</td>\n",
       "      <td>32.0</td>\n",
       "      <td>/m/0jys3g</td>\n",
       "    </tr>\n",
       "    <tr>\n",
       "      <th>3</th>\n",
       "      <td>975900</td>\n",
       "      <td>/m/03vyhn</td>\n",
       "      <td>Ghosts of Mars</td>\n",
       "      <td>2001-08-24</td>\n",
       "      <td>14010832.0</td>\n",
       "      <td>98.0</td>\n",
       "      <td>{\"/m/02h40lc\": \"English Language\"}</td>\n",
       "      <td>{\"/m/09c7w0\": \"United States of America\"}</td>\n",
       "      <td>{\"/m/01jfsb\": \"Thriller\", \"/m/06n90\": \"Science...</td>\n",
       "      <td>2001-08-24</td>\n",
       "      <td>Sgt Jericho Butler</td>\n",
       "      <td>1967-09-12</td>\n",
       "      <td>M</td>\n",
       "      <td>1.750</td>\n",
       "      <td>NaN</td>\n",
       "      <td>Jason Statham</td>\n",
       "      <td>33.0</td>\n",
       "      <td>/m/02vchl6</td>\n",
       "    </tr>\n",
       "    <tr>\n",
       "      <th>4</th>\n",
       "      <td>975900</td>\n",
       "      <td>/m/03vyhn</td>\n",
       "      <td>Ghosts of Mars</td>\n",
       "      <td>2001-08-24</td>\n",
       "      <td>14010832.0</td>\n",
       "      <td>98.0</td>\n",
       "      <td>{\"/m/02h40lc\": \"English Language\"}</td>\n",
       "      <td>{\"/m/09c7w0\": \"United States of America\"}</td>\n",
       "      <td>{\"/m/01jfsb\": \"Thriller\", \"/m/06n90\": \"Science...</td>\n",
       "      <td>2001-08-24</td>\n",
       "      <td>Bashira Kincaid</td>\n",
       "      <td>1977-09-25</td>\n",
       "      <td>F</td>\n",
       "      <td>1.650</td>\n",
       "      <td>NaN</td>\n",
       "      <td>Clea DuVall</td>\n",
       "      <td>23.0</td>\n",
       "      <td>/m/02vbb3r</td>\n",
       "    </tr>\n",
       "    <tr>\n",
       "      <th>...</th>\n",
       "      <td>...</td>\n",
       "      <td>...</td>\n",
       "      <td>...</td>\n",
       "      <td>...</td>\n",
       "      <td>...</td>\n",
       "      <td>...</td>\n",
       "      <td>...</td>\n",
       "      <td>...</td>\n",
       "      <td>...</td>\n",
       "      <td>...</td>\n",
       "      <td>...</td>\n",
       "      <td>...</td>\n",
       "      <td>...</td>\n",
       "      <td>...</td>\n",
       "      <td>...</td>\n",
       "      <td>...</td>\n",
       "      <td>...</td>\n",
       "      <td>...</td>\n",
       "    </tr>\n",
       "    <tr>\n",
       "      <th>468075</th>\n",
       "      <td>12476867</td>\n",
       "      <td>/m/02w7zz8</td>\n",
       "      <td>Spliced</td>\n",
       "      <td>2002</td>\n",
       "      <td>NaN</td>\n",
       "      <td>86.0</td>\n",
       "      <td>{\"/m/02h40lc\": \"English Language\"}</td>\n",
       "      <td>{\"/m/0d060g\": \"Canada\"}</td>\n",
       "      <td>{\"/m/01jfsb\": \"Thriller\", \"/m/03npn\": \"Horror\"...</td>\n",
       "      <td>2002</td>\n",
       "      <td>NaN</td>\n",
       "      <td>NaN</td>\n",
       "      <td>NaN</td>\n",
       "      <td>NaN</td>\n",
       "      <td>NaN</td>\n",
       "      <td>Billy Morton</td>\n",
       "      <td>NaN</td>\n",
       "      <td>/m/0gchkcy</td>\n",
       "    </tr>\n",
       "    <tr>\n",
       "      <th>468076</th>\n",
       "      <td>12476867</td>\n",
       "      <td>/m/02w7zz8</td>\n",
       "      <td>Spliced</td>\n",
       "      <td>2002</td>\n",
       "      <td>NaN</td>\n",
       "      <td>86.0</td>\n",
       "      <td>{\"/m/02h40lc\": \"English Language\"}</td>\n",
       "      <td>{\"/m/0d060g\": \"Canada\"}</td>\n",
       "      <td>{\"/m/01jfsb\": \"Thriller\", \"/m/03npn\": \"Horror\"...</td>\n",
       "      <td>2002</td>\n",
       "      <td>NaN</td>\n",
       "      <td>1982-01-28</td>\n",
       "      <td>NaN</td>\n",
       "      <td>NaN</td>\n",
       "      <td>NaN</td>\n",
       "      <td>Andrea Runge</td>\n",
       "      <td>19.0</td>\n",
       "      <td>/m/0gckh4f</td>\n",
       "    </tr>\n",
       "    <tr>\n",
       "      <th>468077</th>\n",
       "      <td>12476867</td>\n",
       "      <td>/m/02w7zz8</td>\n",
       "      <td>Spliced</td>\n",
       "      <td>2002</td>\n",
       "      <td>NaN</td>\n",
       "      <td>86.0</td>\n",
       "      <td>{\"/m/02h40lc\": \"English Language\"}</td>\n",
       "      <td>{\"/m/0d060g\": \"Canada\"}</td>\n",
       "      <td>{\"/m/01jfsb\": \"Thriller\", \"/m/03npn\": \"Horror\"...</td>\n",
       "      <td>2002</td>\n",
       "      <td>NaN</td>\n",
       "      <td>NaN</td>\n",
       "      <td>F</td>\n",
       "      <td>NaN</td>\n",
       "      <td>NaN</td>\n",
       "      <td>Wendy Anderson</td>\n",
       "      <td>NaN</td>\n",
       "      <td>/m/0gcp8fv</td>\n",
       "    </tr>\n",
       "    <tr>\n",
       "      <th>468078</th>\n",
       "      <td>12476867</td>\n",
       "      <td>/m/02w7zz8</td>\n",
       "      <td>Spliced</td>\n",
       "      <td>2002</td>\n",
       "      <td>NaN</td>\n",
       "      <td>86.0</td>\n",
       "      <td>{\"/m/02h40lc\": \"English Language\"}</td>\n",
       "      <td>{\"/m/0d060g\": \"Canada\"}</td>\n",
       "      <td>{\"/m/01jfsb\": \"Thriller\", \"/m/03npn\": \"Horror\"...</td>\n",
       "      <td>2002</td>\n",
       "      <td>NaN</td>\n",
       "      <td>NaN</td>\n",
       "      <td>NaN</td>\n",
       "      <td>NaN</td>\n",
       "      <td>NaN</td>\n",
       "      <td>Ariel Bastian</td>\n",
       "      <td>NaN</td>\n",
       "      <td>/m/0gdkb51</td>\n",
       "    </tr>\n",
       "    <tr>\n",
       "      <th>468079</th>\n",
       "      <td>12476867</td>\n",
       "      <td>/m/02w7zz8</td>\n",
       "      <td>Spliced</td>\n",
       "      <td>2002</td>\n",
       "      <td>NaN</td>\n",
       "      <td>86.0</td>\n",
       "      <td>{\"/m/02h40lc\": \"English Language\"}</td>\n",
       "      <td>{\"/m/0d060g\": \"Canada\"}</td>\n",
       "      <td>{\"/m/01jfsb\": \"Thriller\", \"/m/03npn\": \"Horror\"...</td>\n",
       "      <td>2002</td>\n",
       "      <td>NaN</td>\n",
       "      <td>NaN</td>\n",
       "      <td>NaN</td>\n",
       "      <td>NaN</td>\n",
       "      <td>NaN</td>\n",
       "      <td>Jared Van Snellenberg</td>\n",
       "      <td>NaN</td>\n",
       "      <td>/m/0gdndlw</td>\n",
       "    </tr>\n",
       "  </tbody>\n",
       "</table>\n",
       "<p>468080 rows × 18 columns</p>\n",
       "</div>"
      ],
      "text/plain": [
       "        Wikipedia movie ID Freebase movie ID      Movie name  \\\n",
       "0                   975900         /m/03vyhn  Ghosts of Mars   \n",
       "1                   975900         /m/03vyhn  Ghosts of Mars   \n",
       "2                   975900         /m/03vyhn  Ghosts of Mars   \n",
       "3                   975900         /m/03vyhn  Ghosts of Mars   \n",
       "4                   975900         /m/03vyhn  Ghosts of Mars   \n",
       "...                    ...               ...             ...   \n",
       "468075            12476867        /m/02w7zz8         Spliced   \n",
       "468076            12476867        /m/02w7zz8         Spliced   \n",
       "468077            12476867        /m/02w7zz8         Spliced   \n",
       "468078            12476867        /m/02w7zz8         Spliced   \n",
       "468079            12476867        /m/02w7zz8         Spliced   \n",
       "\n",
       "       Movie release date_x  Movie box office revenue  Movie runtime  \\\n",
       "0                2001-08-24                14010832.0           98.0   \n",
       "1                2001-08-24                14010832.0           98.0   \n",
       "2                2001-08-24                14010832.0           98.0   \n",
       "3                2001-08-24                14010832.0           98.0   \n",
       "4                2001-08-24                14010832.0           98.0   \n",
       "...                     ...                       ...            ...   \n",
       "468075                 2002                       NaN           86.0   \n",
       "468076                 2002                       NaN           86.0   \n",
       "468077                 2002                       NaN           86.0   \n",
       "468078                 2002                       NaN           86.0   \n",
       "468079                 2002                       NaN           86.0   \n",
       "\n",
       "                           Movie languages  \\\n",
       "0       {\"/m/02h40lc\": \"English Language\"}   \n",
       "1       {\"/m/02h40lc\": \"English Language\"}   \n",
       "2       {\"/m/02h40lc\": \"English Language\"}   \n",
       "3       {\"/m/02h40lc\": \"English Language\"}   \n",
       "4       {\"/m/02h40lc\": \"English Language\"}   \n",
       "...                                    ...   \n",
       "468075  {\"/m/02h40lc\": \"English Language\"}   \n",
       "468076  {\"/m/02h40lc\": \"English Language\"}   \n",
       "468077  {\"/m/02h40lc\": \"English Language\"}   \n",
       "468078  {\"/m/02h40lc\": \"English Language\"}   \n",
       "468079  {\"/m/02h40lc\": \"English Language\"}   \n",
       "\n",
       "                                  Movie countries  \\\n",
       "0       {\"/m/09c7w0\": \"United States of America\"}   \n",
       "1       {\"/m/09c7w0\": \"United States of America\"}   \n",
       "2       {\"/m/09c7w0\": \"United States of America\"}   \n",
       "3       {\"/m/09c7w0\": \"United States of America\"}   \n",
       "4       {\"/m/09c7w0\": \"United States of America\"}   \n",
       "...                                           ...   \n",
       "468075                    {\"/m/0d060g\": \"Canada\"}   \n",
       "468076                    {\"/m/0d060g\": \"Canada\"}   \n",
       "468077                    {\"/m/0d060g\": \"Canada\"}   \n",
       "468078                    {\"/m/0d060g\": \"Canada\"}   \n",
       "468079                    {\"/m/0d060g\": \"Canada\"}   \n",
       "\n",
       "                                             Movie genres  \\\n",
       "0       {\"/m/01jfsb\": \"Thriller\", \"/m/06n90\": \"Science...   \n",
       "1       {\"/m/01jfsb\": \"Thriller\", \"/m/06n90\": \"Science...   \n",
       "2       {\"/m/01jfsb\": \"Thriller\", \"/m/06n90\": \"Science...   \n",
       "3       {\"/m/01jfsb\": \"Thriller\", \"/m/06n90\": \"Science...   \n",
       "4       {\"/m/01jfsb\": \"Thriller\", \"/m/06n90\": \"Science...   \n",
       "...                                                   ...   \n",
       "468075  {\"/m/01jfsb\": \"Thriller\", \"/m/03npn\": \"Horror\"...   \n",
       "468076  {\"/m/01jfsb\": \"Thriller\", \"/m/03npn\": \"Horror\"...   \n",
       "468077  {\"/m/01jfsb\": \"Thriller\", \"/m/03npn\": \"Horror\"...   \n",
       "468078  {\"/m/01jfsb\": \"Thriller\", \"/m/03npn\": \"Horror\"...   \n",
       "468079  {\"/m/01jfsb\": \"Thriller\", \"/m/03npn\": \"Horror\"...   \n",
       "\n",
       "       Movie release date_y              Character Name   Actor DOB  \\\n",
       "0                2001-08-24                    Akooshay  1958-08-26   \n",
       "1                2001-08-24  Lieutenant Melanie Ballard  1974-08-15   \n",
       "2                2001-08-24         Desolation Williams  1969-06-15   \n",
       "3                2001-08-24          Sgt Jericho Butler  1967-09-12   \n",
       "4                2001-08-24             Bashira Kincaid  1977-09-25   \n",
       "...                     ...                         ...         ...   \n",
       "468075                 2002                         NaN         NaN   \n",
       "468076                 2002                         NaN  1982-01-28   \n",
       "468077                 2002                         NaN         NaN   \n",
       "468078                 2002                         NaN         NaN   \n",
       "468079                 2002                         NaN         NaN   \n",
       "\n",
       "       Actor gender  Actor height Actor ethnicity             Actor Name  \\\n",
       "0                 F         1.620             NaN         Wanda De Jesus   \n",
       "1                 F         1.780      /m/044038p     Natasha Henstridge   \n",
       "2                 M         1.727         /m/0x67               Ice Cube   \n",
       "3                 M         1.750             NaN          Jason Statham   \n",
       "4                 F         1.650             NaN            Clea DuVall   \n",
       "...             ...           ...             ...                    ...   \n",
       "468075          NaN           NaN             NaN           Billy Morton   \n",
       "468076          NaN           NaN             NaN           Andrea Runge   \n",
       "468077            F           NaN             NaN         Wendy Anderson   \n",
       "468078          NaN           NaN             NaN          Ariel Bastian   \n",
       "468079          NaN           NaN             NaN  Jared Van Snellenberg   \n",
       "\n",
       "        Actor age at movie release Freebase character map  \n",
       "0                             42.0             /m/0bgchxw  \n",
       "1                             27.0              /m/0jys3m  \n",
       "2                             32.0              /m/0jys3g  \n",
       "3                             33.0             /m/02vchl6  \n",
       "4                             23.0             /m/02vbb3r  \n",
       "...                            ...                    ...  \n",
       "468075                         NaN             /m/0gchkcy  \n",
       "468076                        19.0             /m/0gckh4f  \n",
       "468077                         NaN             /m/0gcp8fv  \n",
       "468078                         NaN             /m/0gdkb51  \n",
       "468079                         NaN             /m/0gdndlw  \n",
       "\n",
       "[468080 rows x 18 columns]"
      ]
     },
     "metadata": {},
     "output_type": "display_data"
    }
   ],
   "source": [
    "# Merge the movie and character data frames on the common columns\n",
    "movie_characterDF = pd.merge(movieDF, characterDF, on=['Wikipedia movie ID', 'Freebase movie ID'], how='outer')\n",
    "\n",
    "# Check the number of rows in the merged DataFrame\n",
    "print(\"Number of rows in the merged DataFrame:\", len(movie_characterDF))\n",
    "\n",
    "display(movie_characterDF)"
   ]
  },
  {
   "cell_type": "markdown",
   "metadata": {},
   "source": [
    "#### Check of the amount of full release data in the merged dataset"
   ]
  },
  {
   "cell_type": "code",
   "execution_count": 11,
   "metadata": {},
   "outputs": [
    {
     "name": "stdout",
     "output_type": "stream",
     "text": [
      "55.03% of movies in movieDF have a complete release date.\n"
     ]
    },
    {
     "ename": "KeyError",
     "evalue": "'Movie release date'",
     "output_type": "error",
     "traceback": [
      "\u001b[1;31m---------------------------------------------------------------------------\u001b[0m",
      "\u001b[1;31mKeyError\u001b[0m                                  Traceback (most recent call last)",
      "File \u001b[1;32mc:\\Users\\paul\\OneDrive\\Documents\\GitHub\\ada-2023-project-tea4two\\.venv\\lib\\site-packages\\pandas\\core\\indexes\\base.py:3790\u001b[0m, in \u001b[0;36mIndex.get_loc\u001b[1;34m(self, key)\u001b[0m\n\u001b[0;32m   3789\u001b[0m \u001b[39mtry\u001b[39;00m:\n\u001b[1;32m-> 3790\u001b[0m     \u001b[39mreturn\u001b[39;00m \u001b[39mself\u001b[39;49m\u001b[39m.\u001b[39;49m_engine\u001b[39m.\u001b[39;49mget_loc(casted_key)\n\u001b[0;32m   3791\u001b[0m \u001b[39mexcept\u001b[39;00m \u001b[39mKeyError\u001b[39;00m \u001b[39mas\u001b[39;00m err:\n",
      "File \u001b[1;32mindex.pyx:152\u001b[0m, in \u001b[0;36mpandas._libs.index.IndexEngine.get_loc\u001b[1;34m()\u001b[0m\n",
      "File \u001b[1;32mindex.pyx:181\u001b[0m, in \u001b[0;36mpandas._libs.index.IndexEngine.get_loc\u001b[1;34m()\u001b[0m\n",
      "File \u001b[1;32mpandas\\_libs\\hashtable_class_helper.pxi:7080\u001b[0m, in \u001b[0;36mpandas._libs.hashtable.PyObjectHashTable.get_item\u001b[1;34m()\u001b[0m\n",
      "File \u001b[1;32mpandas\\_libs\\hashtable_class_helper.pxi:7088\u001b[0m, in \u001b[0;36mpandas._libs.hashtable.PyObjectHashTable.get_item\u001b[1;34m()\u001b[0m\n",
      "\u001b[1;31mKeyError\u001b[0m: 'Movie release date'",
      "\nThe above exception was the direct cause of the following exception:\n",
      "\u001b[1;31mKeyError\u001b[0m                                  Traceback (most recent call last)",
      "\u001b[1;32mc:\\Users\\paul\\OneDrive\\Documents\\GitHub\\ada-2023-project-tea4two\\Projet ADA V2.0.ipynb Cell 10\u001b[0m line \u001b[0;36m3\n\u001b[0;32m     <a href='vscode-notebook-cell:/c%3A/Users/paul/OneDrive/Documents/GitHub/ada-2023-project-tea4two/Projet%20ADA%20V2.0.ipynb#X12sZmlsZQ%3D%3D?line=27'>28</a>\u001b[0m complete_date_count_merged \u001b[39m=\u001b[39m \u001b[39m0\u001b[39m\n\u001b[0;32m     <a href='vscode-notebook-cell:/c%3A/Users/paul/OneDrive/Documents/GitHub/ada-2023-project-tea4two/Projet%20ADA%20V2.0.ipynb#X12sZmlsZQ%3D%3D?line=28'>29</a>\u001b[0m year_only_count_merged \u001b[39m=\u001b[39m \u001b[39m0\u001b[39m\n\u001b[1;32m---> <a href='vscode-notebook-cell:/c%3A/Users/paul/OneDrive/Documents/GitHub/ada-2023-project-tea4two/Projet%20ADA%20V2.0.ipynb#X12sZmlsZQ%3D%3D?line=29'>30</a>\u001b[0m \u001b[39mfor\u001b[39;00m date \u001b[39min\u001b[39;00m movie_characterDF[\u001b[39m'\u001b[39;49m\u001b[39mMovie release date\u001b[39;49m\u001b[39m'\u001b[39;49m]\u001b[39m.\u001b[39mastype(\u001b[39mstr\u001b[39m):\n\u001b[0;32m     <a href='vscode-notebook-cell:/c%3A/Users/paul/OneDrive/Documents/GitHub/ada-2023-project-tea4two/Projet%20ADA%20V2.0.ipynb#X12sZmlsZQ%3D%3D?line=30'>31</a>\u001b[0m     \u001b[39mif\u001b[39;00m is_complete_date(date):\n\u001b[0;32m     <a href='vscode-notebook-cell:/c%3A/Users/paul/OneDrive/Documents/GitHub/ada-2023-project-tea4two/Projet%20ADA%20V2.0.ipynb#X12sZmlsZQ%3D%3D?line=31'>32</a>\u001b[0m         complete_date_count_merged \u001b[39m+\u001b[39m\u001b[39m=\u001b[39m \u001b[39m1\u001b[39m\n",
      "File \u001b[1;32mc:\\Users\\paul\\OneDrive\\Documents\\GitHub\\ada-2023-project-tea4two\\.venv\\lib\\site-packages\\pandas\\core\\frame.py:3896\u001b[0m, in \u001b[0;36mDataFrame.__getitem__\u001b[1;34m(self, key)\u001b[0m\n\u001b[0;32m   3894\u001b[0m \u001b[39mif\u001b[39;00m \u001b[39mself\u001b[39m\u001b[39m.\u001b[39mcolumns\u001b[39m.\u001b[39mnlevels \u001b[39m>\u001b[39m \u001b[39m1\u001b[39m:\n\u001b[0;32m   3895\u001b[0m     \u001b[39mreturn\u001b[39;00m \u001b[39mself\u001b[39m\u001b[39m.\u001b[39m_getitem_multilevel(key)\n\u001b[1;32m-> 3896\u001b[0m indexer \u001b[39m=\u001b[39m \u001b[39mself\u001b[39;49m\u001b[39m.\u001b[39;49mcolumns\u001b[39m.\u001b[39;49mget_loc(key)\n\u001b[0;32m   3897\u001b[0m \u001b[39mif\u001b[39;00m is_integer(indexer):\n\u001b[0;32m   3898\u001b[0m     indexer \u001b[39m=\u001b[39m [indexer]\n",
      "File \u001b[1;32mc:\\Users\\paul\\OneDrive\\Documents\\GitHub\\ada-2023-project-tea4two\\.venv\\lib\\site-packages\\pandas\\core\\indexes\\base.py:3797\u001b[0m, in \u001b[0;36mIndex.get_loc\u001b[1;34m(self, key)\u001b[0m\n\u001b[0;32m   3792\u001b[0m     \u001b[39mif\u001b[39;00m \u001b[39misinstance\u001b[39m(casted_key, \u001b[39mslice\u001b[39m) \u001b[39mor\u001b[39;00m (\n\u001b[0;32m   3793\u001b[0m         \u001b[39misinstance\u001b[39m(casted_key, abc\u001b[39m.\u001b[39mIterable)\n\u001b[0;32m   3794\u001b[0m         \u001b[39mand\u001b[39;00m \u001b[39many\u001b[39m(\u001b[39misinstance\u001b[39m(x, \u001b[39mslice\u001b[39m) \u001b[39mfor\u001b[39;00m x \u001b[39min\u001b[39;00m casted_key)\n\u001b[0;32m   3795\u001b[0m     ):\n\u001b[0;32m   3796\u001b[0m         \u001b[39mraise\u001b[39;00m InvalidIndexError(key)\n\u001b[1;32m-> 3797\u001b[0m     \u001b[39mraise\u001b[39;00m \u001b[39mKeyError\u001b[39;00m(key) \u001b[39mfrom\u001b[39;00m \u001b[39merr\u001b[39;00m\n\u001b[0;32m   3798\u001b[0m \u001b[39mexcept\u001b[39;00m \u001b[39mTypeError\u001b[39;00m:\n\u001b[0;32m   3799\u001b[0m     \u001b[39m# If we have a listlike key, _check_indexing_error will raise\u001b[39;00m\n\u001b[0;32m   3800\u001b[0m     \u001b[39m#  InvalidIndexError. Otherwise we fall through and re-raise\u001b[39;00m\n\u001b[0;32m   3801\u001b[0m     \u001b[39m#  the TypeError.\u001b[39;00m\n\u001b[0;32m   3802\u001b[0m     \u001b[39mself\u001b[39m\u001b[39m.\u001b[39m_check_indexing_error(key)\n",
      "\u001b[1;31mKeyError\u001b[0m: 'Movie release date'"
     ]
    }
   ],
   "source": [
    "# Define a function to check release date completeness\n",
    "def is_complete_date(date):\n",
    "    if pd.isna(date):\n",
    "        return False\n",
    "    elif len(str(date)) == 10:\n",
    "        return True\n",
    "    else:\n",
    "        return False\n",
    "\n",
    "# Count the number of movies with complete release date and year-only release date for movieDF\n",
    "complete_date_count_movieDF = 0\n",
    "year_only_count_movieDF = 0\n",
    "for date in movieDF['Movie release date'].astype(str):\n",
    "    if is_complete_date(date):\n",
    "        complete_date_count_movieDF += 1\n",
    "    elif len(str(date)) == 4:\n",
    "        year_only_count_movieDF += 1\n",
    "\n",
    "# Calculate the percentage of movies with complete release date for movieDF\n",
    "total_count_movieDF = complete_date_count_movieDF + year_only_count_movieDF\n",
    "if total_count_movieDF > 0:\n",
    "    percentage_movieDF = (complete_date_count_movieDF / total_count_movieDF) * 100\n",
    "    print(f\"{percentage_movieDF:.2f}% of movies in movieDF have a complete release date.\")\n",
    "else:\n",
    "    print(\"No movies found in movieDF.\")\n",
    "\n",
    "# Count the number of movies with complete release date and year-only release date for movie_characterDF\n",
    "complete_date_count_merged = 0\n",
    "year_only_count_merged = 0\n",
    "for date in movie_characterDF['Release Date'].astype(str):\n",
    "    if is_complete_date(date):\n",
    "        complete_date_count_merged += 1\n",
    "    elif len(str(date)) == 4:\n",
    "        year_only_count_merged += 1\n",
    "\n",
    "# Calculate the percentage of movies with complete release date for movie_characterDF\n",
    "total_count_merged = complete_date_count_merged + year_only_count_merged\n",
    "if total_count_merged > 0:\n",
    "    percentage_merged = (complete_date_count_merged / total_count_merged) * 100\n",
    "    print(f\"{percentage_merged:.2f}% of movies in movie_characterDF have a complete release date.\")\n",
    "else:\n",
    "    print(\"No movies found in movie_characterDF.\")\n"
   ]
  },
  {
   "cell_type": "markdown",
   "metadata": {},
   "source": [
    "#### Check of the amount of missing release date in the merged dataset"
   ]
  },
  {
   "cell_type": "code",
   "execution_count": null,
   "metadata": {},
   "outputs": [
    {
     "name": "stdout",
     "output_type": "stream",
     "text": [
      "8.80% of movies have NaN values in the 'Movie release date' movieDF column.\n",
      "2.93% of movies have NaN values in the 'Release date'  movie_characterDF column.\n"
     ]
    }
   ],
   "source": [
    "# Count the number of movies with complete release date and year-only release date\n",
    "complete_date_count = 0\n",
    "year_only_count = 0\n",
    "nan_count = 0\n",
    "for date in movieDF['Movie release date'].astype(str):\n",
    "    if len(date) == 10:\n",
    "        complete_date_count += 1\n",
    "    elif len(date) == 4:\n",
    "        year_only_count += 1\n",
    "    elif date == 'nan':\n",
    "        nan_count += 1\n",
    "\n",
    "# Calculate the percentage of movies with complete release date\n",
    "total_count = complete_date_count + year_only_count + nan_count\n",
    "if total_count > 0:\n",
    "    percentage = (nan_count / total_count) * 100\n",
    "    print(f\"{percentage:.2f}% of movies have NaN values in the 'Movie release date' movieDF column.\")\n",
    "else:\n",
    "    print(\"No movies found in the dataset.\")\n",
    "    \n",
    "# Count the number of movies with complete release date and year-only release date\n",
    "complete_date_count = 0\n",
    "year_only_count = 0\n",
    "nan_count = 0\n",
    "for date in movie_characterDF['Release Date'].astype(str):\n",
    "    if len(date) == 10:\n",
    "        complete_date_count += 1\n",
    "    elif len(date) == 4:\n",
    "        year_only_count += 1\n",
    "    elif date == 'nan':\n",
    "        nan_count += 1\n",
    "\n",
    "# Calculate the percentage of movies with complete release date\n",
    "total_count = complete_date_count + year_only_count + nan_count\n",
    "if total_count > 0:\n",
    "    percentage = (nan_count / total_count) * 100\n",
    "    print(f\"{percentage:.2f}% of movies have NaN values in the 'Release date'  movie_characterDF column.\")\n",
    "else:\n",
    "    print(\"No movies found in the dataset.\")"
   ]
  },
  {
   "cell_type": "code",
   "execution_count": 12,
   "metadata": {},
   "outputs": [
    {
     "ename": "KeyError",
     "evalue": "'Release Date'",
     "output_type": "error",
     "traceback": [
      "\u001b[1;31m---------------------------------------------------------------------------\u001b[0m",
      "\u001b[1;31mKeyError\u001b[0m                                  Traceback (most recent call last)",
      "File \u001b[1;32mc:\\Users\\paul\\OneDrive\\Documents\\GitHub\\ada-2023-project-tea4two\\.venv\\lib\\site-packages\\pandas\\core\\indexes\\base.py:3790\u001b[0m, in \u001b[0;36mIndex.get_loc\u001b[1;34m(self, key)\u001b[0m\n\u001b[0;32m   3789\u001b[0m \u001b[39mtry\u001b[39;00m:\n\u001b[1;32m-> 3790\u001b[0m     \u001b[39mreturn\u001b[39;00m \u001b[39mself\u001b[39;49m\u001b[39m.\u001b[39;49m_engine\u001b[39m.\u001b[39;49mget_loc(casted_key)\n\u001b[0;32m   3791\u001b[0m \u001b[39mexcept\u001b[39;00m \u001b[39mKeyError\u001b[39;00m \u001b[39mas\u001b[39;00m err:\n",
      "File \u001b[1;32mindex.pyx:152\u001b[0m, in \u001b[0;36mpandas._libs.index.IndexEngine.get_loc\u001b[1;34m()\u001b[0m\n",
      "File \u001b[1;32mindex.pyx:181\u001b[0m, in \u001b[0;36mpandas._libs.index.IndexEngine.get_loc\u001b[1;34m()\u001b[0m\n",
      "File \u001b[1;32mpandas\\_libs\\hashtable_class_helper.pxi:7080\u001b[0m, in \u001b[0;36mpandas._libs.hashtable.PyObjectHashTable.get_item\u001b[1;34m()\u001b[0m\n",
      "File \u001b[1;32mpandas\\_libs\\hashtable_class_helper.pxi:7088\u001b[0m, in \u001b[0;36mpandas._libs.hashtable.PyObjectHashTable.get_item\u001b[1;34m()\u001b[0m\n",
      "\u001b[1;31mKeyError\u001b[0m: 'Release Date'",
      "\nThe above exception was the direct cause of the following exception:\n",
      "\u001b[1;31mKeyError\u001b[0m                                  Traceback (most recent call last)",
      "\u001b[1;32mc:\\Users\\paul\\OneDrive\\Documents\\GitHub\\ada-2023-project-tea4two\\Projet ADA V2.0.ipynb Cell 13\u001b[0m line \u001b[0;36m2\n\u001b[0;32m      <a href='vscode-notebook-cell:/c%3A/Users/paul/OneDrive/Documents/GitHub/ada-2023-project-tea4two/Projet%20ADA%20V2.0.ipynb#X15sZmlsZQ%3D%3D?line=0'>1</a>\u001b[0m \u001b[39m# Extract the year from the 'Release Date' column and create a new column for the year\u001b[39;00m\n\u001b[1;32m----> <a href='vscode-notebook-cell:/c%3A/Users/paul/OneDrive/Documents/GitHub/ada-2023-project-tea4two/Projet%20ADA%20V2.0.ipynb#X15sZmlsZQ%3D%3D?line=1'>2</a>\u001b[0m movie_characterDF[\u001b[39m'\u001b[39m\u001b[39mYear\u001b[39m\u001b[39m'\u001b[39m] \u001b[39m=\u001b[39m movie_characterDF[\u001b[39m'\u001b[39;49m\u001b[39mRelease Date\u001b[39;49m\u001b[39m'\u001b[39;49m]\u001b[39m.\u001b[39mstr[:\u001b[39m4\u001b[39m]\n\u001b[0;32m      <a href='vscode-notebook-cell:/c%3A/Users/paul/OneDrive/Documents/GitHub/ada-2023-project-tea4two/Projet%20ADA%20V2.0.ipynb#X15sZmlsZQ%3D%3D?line=3'>4</a>\u001b[0m \u001b[39m# Get the percentage of films released each year\u001b[39;00m\n\u001b[0;32m      <a href='vscode-notebook-cell:/c%3A/Users/paul/OneDrive/Documents/GitHub/ada-2023-project-tea4two/Projet%20ADA%20V2.0.ipynb#X15sZmlsZQ%3D%3D?line=4'>5</a>\u001b[0m year_counts \u001b[39m=\u001b[39m movie_characterDF[\u001b[39m'\u001b[39m\u001b[39mYear\u001b[39m\u001b[39m'\u001b[39m]\u001b[39m.\u001b[39mvalue_counts()\u001b[39m.\u001b[39msort_index()\n",
      "File \u001b[1;32mc:\\Users\\paul\\OneDrive\\Documents\\GitHub\\ada-2023-project-tea4two\\.venv\\lib\\site-packages\\pandas\\core\\frame.py:3896\u001b[0m, in \u001b[0;36mDataFrame.__getitem__\u001b[1;34m(self, key)\u001b[0m\n\u001b[0;32m   3894\u001b[0m \u001b[39mif\u001b[39;00m \u001b[39mself\u001b[39m\u001b[39m.\u001b[39mcolumns\u001b[39m.\u001b[39mnlevels \u001b[39m>\u001b[39m \u001b[39m1\u001b[39m:\n\u001b[0;32m   3895\u001b[0m     \u001b[39mreturn\u001b[39;00m \u001b[39mself\u001b[39m\u001b[39m.\u001b[39m_getitem_multilevel(key)\n\u001b[1;32m-> 3896\u001b[0m indexer \u001b[39m=\u001b[39m \u001b[39mself\u001b[39;49m\u001b[39m.\u001b[39;49mcolumns\u001b[39m.\u001b[39;49mget_loc(key)\n\u001b[0;32m   3897\u001b[0m \u001b[39mif\u001b[39;00m is_integer(indexer):\n\u001b[0;32m   3898\u001b[0m     indexer \u001b[39m=\u001b[39m [indexer]\n",
      "File \u001b[1;32mc:\\Users\\paul\\OneDrive\\Documents\\GitHub\\ada-2023-project-tea4two\\.venv\\lib\\site-packages\\pandas\\core\\indexes\\base.py:3797\u001b[0m, in \u001b[0;36mIndex.get_loc\u001b[1;34m(self, key)\u001b[0m\n\u001b[0;32m   3792\u001b[0m     \u001b[39mif\u001b[39;00m \u001b[39misinstance\u001b[39m(casted_key, \u001b[39mslice\u001b[39m) \u001b[39mor\u001b[39;00m (\n\u001b[0;32m   3793\u001b[0m         \u001b[39misinstance\u001b[39m(casted_key, abc\u001b[39m.\u001b[39mIterable)\n\u001b[0;32m   3794\u001b[0m         \u001b[39mand\u001b[39;00m \u001b[39many\u001b[39m(\u001b[39misinstance\u001b[39m(x, \u001b[39mslice\u001b[39m) \u001b[39mfor\u001b[39;00m x \u001b[39min\u001b[39;00m casted_key)\n\u001b[0;32m   3795\u001b[0m     ):\n\u001b[0;32m   3796\u001b[0m         \u001b[39mraise\u001b[39;00m InvalidIndexError(key)\n\u001b[1;32m-> 3797\u001b[0m     \u001b[39mraise\u001b[39;00m \u001b[39mKeyError\u001b[39;00m(key) \u001b[39mfrom\u001b[39;00m \u001b[39merr\u001b[39;00m\n\u001b[0;32m   3798\u001b[0m \u001b[39mexcept\u001b[39;00m \u001b[39mTypeError\u001b[39;00m:\n\u001b[0;32m   3799\u001b[0m     \u001b[39m# If we have a listlike key, _check_indexing_error will raise\u001b[39;00m\n\u001b[0;32m   3800\u001b[0m     \u001b[39m#  InvalidIndexError. Otherwise we fall through and re-raise\u001b[39;00m\n\u001b[0;32m   3801\u001b[0m     \u001b[39m#  the TypeError.\u001b[39;00m\n\u001b[0;32m   3802\u001b[0m     \u001b[39mself\u001b[39m\u001b[39m.\u001b[39m_check_indexing_error(key)\n",
      "\u001b[1;31mKeyError\u001b[0m: 'Release Date'"
     ]
    }
   ],
   "source": [
    "# Extract the year from the 'Release Date' column and create a new column for the year\n",
    "movie_characterDF['Year'] = movie_characterDF['Release Date'].str[:4]\n",
    "\n",
    "# Get the percentage of films released each year\n",
    "year_counts = movie_characterDF['Year'].value_counts().sort_index()\n",
    "total_films = year_counts.sum()\n",
    "year_percentages = (year_counts / total_films) * 100\n",
    "\n",
    "# Create a line plot of film release years\n",
    "lineplot = px.line(x=year_percentages.index, y=year_percentages.values, title='Percentage of Films Released Each Year')\n",
    "\n",
    "# Create a subplot with the scatter plot and line plot\n",
    "fig = make_subplots(rows=1, cols=1, shared_xaxes=True, vertical_spacing=0.1, subplot_titles=(\"Percentage of Films Released Each Year\", \"\"))\n",
    "fig.add_trace(lineplot['data'][0], row=1, col=1)\n",
    "\n",
    "# Update the layout of the subplot\n",
    "fig.update_xaxes(title_text=\"Year\", row=1, col=1)\n",
    "fig.update_yaxes(title_text=\"Percentage of Films (%)\", row=1, col=1)\n",
    "\n",
    "\n",
    "# Show the subplot\n",
    "fig.show()"
   ]
  },
  {
   "cell_type": "markdown",
   "metadata": {},
   "source": [
    "#### Graph of the estimated full release date percent each year"
   ]
  },
  {
   "cell_type": "code",
   "execution_count": 13,
   "metadata": {},
   "outputs": [
    {
     "ename": "KeyError",
     "evalue": "'Release Date'",
     "output_type": "error",
     "traceback": [
      "\u001b[1;31m---------------------------------------------------------------------------\u001b[0m",
      "\u001b[1;31mKeyError\u001b[0m                                  Traceback (most recent call last)",
      "File \u001b[1;32mc:\\Users\\paul\\OneDrive\\Documents\\GitHub\\ada-2023-project-tea4two\\.venv\\lib\\site-packages\\pandas\\core\\indexes\\base.py:3790\u001b[0m, in \u001b[0;36mIndex.get_loc\u001b[1;34m(self, key)\u001b[0m\n\u001b[0;32m   3789\u001b[0m \u001b[39mtry\u001b[39;00m:\n\u001b[1;32m-> 3790\u001b[0m     \u001b[39mreturn\u001b[39;00m \u001b[39mself\u001b[39;49m\u001b[39m.\u001b[39;49m_engine\u001b[39m.\u001b[39;49mget_loc(casted_key)\n\u001b[0;32m   3791\u001b[0m \u001b[39mexcept\u001b[39;00m \u001b[39mKeyError\u001b[39;00m \u001b[39mas\u001b[39;00m err:\n",
      "File \u001b[1;32mindex.pyx:152\u001b[0m, in \u001b[0;36mpandas._libs.index.IndexEngine.get_loc\u001b[1;34m()\u001b[0m\n",
      "File \u001b[1;32mindex.pyx:181\u001b[0m, in \u001b[0;36mpandas._libs.index.IndexEngine.get_loc\u001b[1;34m()\u001b[0m\n",
      "File \u001b[1;32mpandas\\_libs\\hashtable_class_helper.pxi:7080\u001b[0m, in \u001b[0;36mpandas._libs.hashtable.PyObjectHashTable.get_item\u001b[1;34m()\u001b[0m\n",
      "File \u001b[1;32mpandas\\_libs\\hashtable_class_helper.pxi:7088\u001b[0m, in \u001b[0;36mpandas._libs.hashtable.PyObjectHashTable.get_item\u001b[1;34m()\u001b[0m\n",
      "\u001b[1;31mKeyError\u001b[0m: 'Release Date'",
      "\nThe above exception was the direct cause of the following exception:\n",
      "\u001b[1;31mKeyError\u001b[0m                                  Traceback (most recent call last)",
      "\u001b[1;32mc:\\Users\\paul\\OneDrive\\Documents\\GitHub\\ada-2023-project-tea4two\\Projet ADA V2.0.ipynb Cell 15\u001b[0m line \u001b[0;36m2\n\u001b[0;32m      <a href='vscode-notebook-cell:/c%3A/Users/paul/OneDrive/Documents/GitHub/ada-2023-project-tea4two/Projet%20ADA%20V2.0.ipynb#X20sZmlsZQ%3D%3D?line=0'>1</a>\u001b[0m \u001b[39m# Add a new column named \"Release State Form\"\u001b[39;00m\n\u001b[1;32m----> <a href='vscode-notebook-cell:/c%3A/Users/paul/OneDrive/Documents/GitHub/ada-2023-project-tea4two/Projet%20ADA%20V2.0.ipynb#X20sZmlsZQ%3D%3D?line=1'>2</a>\u001b[0m movie_characterDF[\u001b[39m'\u001b[39m\u001b[39mRelease Date State\u001b[39m\u001b[39m'\u001b[39m] \u001b[39m=\u001b[39m movie_characterDF[\u001b[39m'\u001b[39;49m\u001b[39mRelease Date\u001b[39;49m\u001b[39m'\u001b[39;49m]\u001b[39m.\u001b[39mstr\u001b[39m.\u001b[39mlen()\n\u001b[0;32m      <a href='vscode-notebook-cell:/c%3A/Users/paul/OneDrive/Documents/GitHub/ada-2023-project-tea4two/Projet%20ADA%20V2.0.ipynb#X20sZmlsZQ%3D%3D?line=2'>3</a>\u001b[0m movie_characterDF[\u001b[39m'\u001b[39m\u001b[39mRelease Date State\u001b[39m\u001b[39m'\u001b[39m] \u001b[39m=\u001b[39m movie_characterDF[\u001b[39m'\u001b[39m\u001b[39mRelease Date State\u001b[39m\u001b[39m'\u001b[39m]\u001b[39m.\u001b[39mreplace(\u001b[39m10.0\u001b[39m, \u001b[39m'\u001b[39m\u001b[39mFull\u001b[39m\u001b[39m'\u001b[39m)\n\u001b[0;32m      <a href='vscode-notebook-cell:/c%3A/Users/paul/OneDrive/Documents/GitHub/ada-2023-project-tea4two/Projet%20ADA%20V2.0.ipynb#X20sZmlsZQ%3D%3D?line=3'>4</a>\u001b[0m movie_characterDF[\u001b[39m'\u001b[39m\u001b[39mRelease Date State\u001b[39m\u001b[39m'\u001b[39m] \u001b[39m=\u001b[39m movie_characterDF[\u001b[39m'\u001b[39m\u001b[39mRelease Date State\u001b[39m\u001b[39m'\u001b[39m]\u001b[39m.\u001b[39mreplace(\u001b[39m4.0\u001b[39m, \u001b[39m'\u001b[39m\u001b[39mYear\u001b[39m\u001b[39m'\u001b[39m)\n",
      "File \u001b[1;32mc:\\Users\\paul\\OneDrive\\Documents\\GitHub\\ada-2023-project-tea4two\\.venv\\lib\\site-packages\\pandas\\core\\frame.py:3896\u001b[0m, in \u001b[0;36mDataFrame.__getitem__\u001b[1;34m(self, key)\u001b[0m\n\u001b[0;32m   3894\u001b[0m \u001b[39mif\u001b[39;00m \u001b[39mself\u001b[39m\u001b[39m.\u001b[39mcolumns\u001b[39m.\u001b[39mnlevels \u001b[39m>\u001b[39m \u001b[39m1\u001b[39m:\n\u001b[0;32m   3895\u001b[0m     \u001b[39mreturn\u001b[39;00m \u001b[39mself\u001b[39m\u001b[39m.\u001b[39m_getitem_multilevel(key)\n\u001b[1;32m-> 3896\u001b[0m indexer \u001b[39m=\u001b[39m \u001b[39mself\u001b[39;49m\u001b[39m.\u001b[39;49mcolumns\u001b[39m.\u001b[39;49mget_loc(key)\n\u001b[0;32m   3897\u001b[0m \u001b[39mif\u001b[39;00m is_integer(indexer):\n\u001b[0;32m   3898\u001b[0m     indexer \u001b[39m=\u001b[39m [indexer]\n",
      "File \u001b[1;32mc:\\Users\\paul\\OneDrive\\Documents\\GitHub\\ada-2023-project-tea4two\\.venv\\lib\\site-packages\\pandas\\core\\indexes\\base.py:3797\u001b[0m, in \u001b[0;36mIndex.get_loc\u001b[1;34m(self, key)\u001b[0m\n\u001b[0;32m   3792\u001b[0m     \u001b[39mif\u001b[39;00m \u001b[39misinstance\u001b[39m(casted_key, \u001b[39mslice\u001b[39m) \u001b[39mor\u001b[39;00m (\n\u001b[0;32m   3793\u001b[0m         \u001b[39misinstance\u001b[39m(casted_key, abc\u001b[39m.\u001b[39mIterable)\n\u001b[0;32m   3794\u001b[0m         \u001b[39mand\u001b[39;00m \u001b[39many\u001b[39m(\u001b[39misinstance\u001b[39m(x, \u001b[39mslice\u001b[39m) \u001b[39mfor\u001b[39;00m x \u001b[39min\u001b[39;00m casted_key)\n\u001b[0;32m   3795\u001b[0m     ):\n\u001b[0;32m   3796\u001b[0m         \u001b[39mraise\u001b[39;00m InvalidIndexError(key)\n\u001b[1;32m-> 3797\u001b[0m     \u001b[39mraise\u001b[39;00m \u001b[39mKeyError\u001b[39;00m(key) \u001b[39mfrom\u001b[39;00m \u001b[39merr\u001b[39;00m\n\u001b[0;32m   3798\u001b[0m \u001b[39mexcept\u001b[39;00m \u001b[39mTypeError\u001b[39;00m:\n\u001b[0;32m   3799\u001b[0m     \u001b[39m# If we have a listlike key, _check_indexing_error will raise\u001b[39;00m\n\u001b[0;32m   3800\u001b[0m     \u001b[39m#  InvalidIndexError. Otherwise we fall through and re-raise\u001b[39;00m\n\u001b[0;32m   3801\u001b[0m     \u001b[39m#  the TypeError.\u001b[39;00m\n\u001b[0;32m   3802\u001b[0m     \u001b[39mself\u001b[39m\u001b[39m.\u001b[39m_check_indexing_error(key)\n",
      "\u001b[1;31mKeyError\u001b[0m: 'Release Date'"
     ]
    }
   ],
   "source": [
    "# Add a new column named \"Release State Form\"\n",
    "movie_characterDF['Release Date State'] = movie_characterDF['Release Date'].str.len()\n",
    "movie_characterDF['Release Date State'] = movie_characterDF['Release Date State'].replace(10.0, 'Full')\n",
    "movie_characterDF['Release Date State'] = movie_characterDF['Release Date State'].replace(4.0, 'Year')\n",
    "\n",
    "# Count the number of movies with complete release date and year-only release date for each year\n",
    "complete_date_counts = {}\n",
    "year_only_counts = {}\n",
    "for year in movie_characterDF['Year'].unique():\n",
    "    complete_date_counts[year] = 0\n",
    "    year_only_counts[year] = 0\n",
    "    for date in movie_characterDF[movie_characterDF['Year'] == year]['Release Date'].astype(str):\n",
    "        if len(date) == 10:\n",
    "            complete_date_counts[year] += 1\n",
    "        elif len(date) == 4:\n",
    "            year_only_counts[year] += 1\n",
    "\n",
    "# Calculate the percentage of movies with complete release date for each year\n",
    "year_percentages = {}\n",
    "for year in movie_characterDF['Year'].unique():\n",
    "    total_count = complete_date_counts[year] + year_only_counts[year]\n",
    "    if total_count > 0:\n",
    "        year_percentages[str(year)] = (complete_date_counts[year] / total_count) * 100\n",
    "    else:\n",
    "        year_percentages[str(year)] = 0\n",
    "\n",
    "# Sort the years in ascending order\n",
    "sorted_years = sorted(year_percentages.keys())\n",
    "\n",
    "# Create a line plot of the percentage of movies with complete release date for each year\n",
    "lineplot = px.line(x=sorted_years, y=[year_percentages[year] for year in sorted_years], title='Percentage of Movies with Complete Release Date Each Year')\n",
    "\n",
    "# Create a subplot with the line plot\n",
    "fig = make_subplots(rows=1, cols=1, shared_xaxes=True, vertical_spacing=0.1, subplot_titles=(\"Percentage of Movies with Complete Release Date Each Year\", \"\"))\n",
    "fig.add_trace(lineplot['data'][0], row=1, col=1)\n",
    "\n",
    "# Update the layout of the subplot\n",
    "fig.update_xaxes(title_text=\"Year\", row=1, col=1)\n",
    "fig.update_yaxes(title_text=\"Percentage of Movies with Complete Release Date (%)\", row=1, col=1)\n",
    "\n",
    "# Show the subplot\n",
    "fig.show()\n"
   ]
  },
  {
   "cell_type": "code",
   "execution_count": 14,
   "metadata": {},
   "outputs": [
    {
     "ename": "KeyError",
     "evalue": "'Release Date'",
     "output_type": "error",
     "traceback": [
      "\u001b[1;31m---------------------------------------------------------------------------\u001b[0m",
      "\u001b[1;31mKeyError\u001b[0m                                  Traceback (most recent call last)",
      "File \u001b[1;32mc:\\Users\\paul\\OneDrive\\Documents\\GitHub\\ada-2023-project-tea4two\\.venv\\lib\\site-packages\\pandas\\core\\indexes\\base.py:3790\u001b[0m, in \u001b[0;36mIndex.get_loc\u001b[1;34m(self, key)\u001b[0m\n\u001b[0;32m   3789\u001b[0m \u001b[39mtry\u001b[39;00m:\n\u001b[1;32m-> 3790\u001b[0m     \u001b[39mreturn\u001b[39;00m \u001b[39mself\u001b[39;49m\u001b[39m.\u001b[39;49m_engine\u001b[39m.\u001b[39;49mget_loc(casted_key)\n\u001b[0;32m   3791\u001b[0m \u001b[39mexcept\u001b[39;00m \u001b[39mKeyError\u001b[39;00m \u001b[39mas\u001b[39;00m err:\n",
      "File \u001b[1;32mindex.pyx:152\u001b[0m, in \u001b[0;36mpandas._libs.index.IndexEngine.get_loc\u001b[1;34m()\u001b[0m\n",
      "File \u001b[1;32mindex.pyx:181\u001b[0m, in \u001b[0;36mpandas._libs.index.IndexEngine.get_loc\u001b[1;34m()\u001b[0m\n",
      "File \u001b[1;32mpandas\\_libs\\hashtable_class_helper.pxi:7080\u001b[0m, in \u001b[0;36mpandas._libs.hashtable.PyObjectHashTable.get_item\u001b[1;34m()\u001b[0m\n",
      "File \u001b[1;32mpandas\\_libs\\hashtable_class_helper.pxi:7088\u001b[0m, in \u001b[0;36mpandas._libs.hashtable.PyObjectHashTable.get_item\u001b[1;34m()\u001b[0m\n",
      "\u001b[1;31mKeyError\u001b[0m: 'Release Date'",
      "\nThe above exception was the direct cause of the following exception:\n",
      "\u001b[1;31mKeyError\u001b[0m                                  Traceback (most recent call last)",
      "\u001b[1;32mc:\\Users\\paul\\OneDrive\\Documents\\GitHub\\ada-2023-project-tea4two\\Projet ADA V2.0.ipynb Cell 16\u001b[0m line \u001b[0;36m2\n\u001b[0;32m      <a href='vscode-notebook-cell:/c%3A/Users/paul/OneDrive/Documents/GitHub/ada-2023-project-tea4two/Projet%20ADA%20V2.0.ipynb#X21sZmlsZQ%3D%3D?line=0'>1</a>\u001b[0m \u001b[39m# Add a new column named \"Release State Form\"\u001b[39;00m\n\u001b[1;32m----> <a href='vscode-notebook-cell:/c%3A/Users/paul/OneDrive/Documents/GitHub/ada-2023-project-tea4two/Projet%20ADA%20V2.0.ipynb#X21sZmlsZQ%3D%3D?line=1'>2</a>\u001b[0m movie_characterDF[\u001b[39m'\u001b[39m\u001b[39mRelease Date State\u001b[39m\u001b[39m'\u001b[39m] \u001b[39m=\u001b[39m movie_characterDF[\u001b[39m'\u001b[39;49m\u001b[39mRelease Date\u001b[39;49m\u001b[39m'\u001b[39;49m]\u001b[39m.\u001b[39mstr\u001b[39m.\u001b[39mlen()\n\u001b[0;32m      <a href='vscode-notebook-cell:/c%3A/Users/paul/OneDrive/Documents/GitHub/ada-2023-project-tea4two/Projet%20ADA%20V2.0.ipynb#X21sZmlsZQ%3D%3D?line=2'>3</a>\u001b[0m movie_characterDF[\u001b[39m'\u001b[39m\u001b[39mRelease Date State\u001b[39m\u001b[39m'\u001b[39m] \u001b[39m=\u001b[39m movie_characterDF[\u001b[39m'\u001b[39m\u001b[39mRelease Date State\u001b[39m\u001b[39m'\u001b[39m]\u001b[39m.\u001b[39mreplace(\u001b[39m10.0\u001b[39m, \u001b[39m'\u001b[39m\u001b[39mFull\u001b[39m\u001b[39m'\u001b[39m)\n\u001b[0;32m      <a href='vscode-notebook-cell:/c%3A/Users/paul/OneDrive/Documents/GitHub/ada-2023-project-tea4two/Projet%20ADA%20V2.0.ipynb#X21sZmlsZQ%3D%3D?line=3'>4</a>\u001b[0m movie_characterDF[\u001b[39m'\u001b[39m\u001b[39mRelease Date State\u001b[39m\u001b[39m'\u001b[39m] \u001b[39m=\u001b[39m movie_characterDF[\u001b[39m'\u001b[39m\u001b[39mRelease Date State\u001b[39m\u001b[39m'\u001b[39m]\u001b[39m.\u001b[39mreplace(\u001b[39m4.0\u001b[39m, \u001b[39m'\u001b[39m\u001b[39mYear\u001b[39m\u001b[39m'\u001b[39m)\n",
      "File \u001b[1;32mc:\\Users\\paul\\OneDrive\\Documents\\GitHub\\ada-2023-project-tea4two\\.venv\\lib\\site-packages\\pandas\\core\\frame.py:3896\u001b[0m, in \u001b[0;36mDataFrame.__getitem__\u001b[1;34m(self, key)\u001b[0m\n\u001b[0;32m   3894\u001b[0m \u001b[39mif\u001b[39;00m \u001b[39mself\u001b[39m\u001b[39m.\u001b[39mcolumns\u001b[39m.\u001b[39mnlevels \u001b[39m>\u001b[39m \u001b[39m1\u001b[39m:\n\u001b[0;32m   3895\u001b[0m     \u001b[39mreturn\u001b[39;00m \u001b[39mself\u001b[39m\u001b[39m.\u001b[39m_getitem_multilevel(key)\n\u001b[1;32m-> 3896\u001b[0m indexer \u001b[39m=\u001b[39m \u001b[39mself\u001b[39;49m\u001b[39m.\u001b[39;49mcolumns\u001b[39m.\u001b[39;49mget_loc(key)\n\u001b[0;32m   3897\u001b[0m \u001b[39mif\u001b[39;00m is_integer(indexer):\n\u001b[0;32m   3898\u001b[0m     indexer \u001b[39m=\u001b[39m [indexer]\n",
      "File \u001b[1;32mc:\\Users\\paul\\OneDrive\\Documents\\GitHub\\ada-2023-project-tea4two\\.venv\\lib\\site-packages\\pandas\\core\\indexes\\base.py:3797\u001b[0m, in \u001b[0;36mIndex.get_loc\u001b[1;34m(self, key)\u001b[0m\n\u001b[0;32m   3792\u001b[0m     \u001b[39mif\u001b[39;00m \u001b[39misinstance\u001b[39m(casted_key, \u001b[39mslice\u001b[39m) \u001b[39mor\u001b[39;00m (\n\u001b[0;32m   3793\u001b[0m         \u001b[39misinstance\u001b[39m(casted_key, abc\u001b[39m.\u001b[39mIterable)\n\u001b[0;32m   3794\u001b[0m         \u001b[39mand\u001b[39;00m \u001b[39many\u001b[39m(\u001b[39misinstance\u001b[39m(x, \u001b[39mslice\u001b[39m) \u001b[39mfor\u001b[39;00m x \u001b[39min\u001b[39;00m casted_key)\n\u001b[0;32m   3795\u001b[0m     ):\n\u001b[0;32m   3796\u001b[0m         \u001b[39mraise\u001b[39;00m InvalidIndexError(key)\n\u001b[1;32m-> 3797\u001b[0m     \u001b[39mraise\u001b[39;00m \u001b[39mKeyError\u001b[39;00m(key) \u001b[39mfrom\u001b[39;00m \u001b[39merr\u001b[39;00m\n\u001b[0;32m   3798\u001b[0m \u001b[39mexcept\u001b[39;00m \u001b[39mTypeError\u001b[39;00m:\n\u001b[0;32m   3799\u001b[0m     \u001b[39m# If we have a listlike key, _check_indexing_error will raise\u001b[39;00m\n\u001b[0;32m   3800\u001b[0m     \u001b[39m#  InvalidIndexError. Otherwise we fall through and re-raise\u001b[39;00m\n\u001b[0;32m   3801\u001b[0m     \u001b[39m#  the TypeError.\u001b[39;00m\n\u001b[0;32m   3802\u001b[0m     \u001b[39mself\u001b[39m\u001b[39m.\u001b[39m_check_indexing_error(key)\n",
      "\u001b[1;31mKeyError\u001b[0m: 'Release Date'"
     ]
    }
   ],
   "source": [
    "# Add a new column named \"Release State Form\"\n",
    "movie_characterDF['Release Date State'] = movie_characterDF['Release Date'].str.len()\n",
    "movie_characterDF['Release Date State'] = movie_characterDF['Release Date State'].replace(10.0, 'Full')\n",
    "movie_characterDF['Release Date State'] = movie_characterDF['Release Date State'].replace(4.0, 'Year')\n",
    "\n",
    "# Count the number of movies with complete release date and year-only release date for each year\n",
    "complete_date_counts = {}\n",
    "partial_date_counts = {}\n",
    "low_date_counts = {}\n",
    "nan_date_counts = {}\n",
    "year_only_counts = {}\n",
    "for year in movie_characterDF['Year'].unique():\n",
    "    complete_date_counts[year] = 0\n",
    "    partial_date_counts[year] = 0\n",
    "    low_date_counts[year] = 0\n",
    "    nan_date_counts[year] = 0\n",
    "    for date in movie_characterDF[movie_characterDF['Year'] == year]['Release Date'].astype(str):\n",
    "        if len(date) == 10:\n",
    "            complete_date_counts[year] += 1\n",
    "        elif len(date) == 7:\n",
    "            partial_date_counts[year] += 1\n",
    "        elif len(date) == 4:\n",
    "            low_date_counts[year] += 1\n",
    "        else:\n",
    "            nan_date_counts[year] += 1\n",
    "\n",
    "\n",
    "# Calculate the percentage of movies with complete release date for each year\n",
    "complete_year_percentages = {}\n",
    "for year in movie_characterDF['Year'].unique():\n",
    "    total_count = complete_date_counts[year] + partial_date_counts[year] + low_date_counts[year]\n",
    "    if total_count > 0:\n",
    "        complete_year_percentages[str(year)] = (complete_date_counts[year] / total_count) * 100\n",
    "    else:\n",
    "        complete_year_percentages[str(year)] = 0\n",
    "\n",
    "# Calculate the percentage of movies with partial release date for each year\n",
    "partial_year_percentages = {}\n",
    "for year in movie_characterDF['Year'].unique():\n",
    "    total_count = complete_date_counts[year] + partial_date_counts[year] + low_date_counts[year]\n",
    "    if total_count > 0:\n",
    "        partial_year_percentages[str(year)] = (partial_date_counts[year] / total_count) * 100\n",
    "    else:\n",
    "        partial_year_percentages[str(year)] = 0\n",
    "        \n",
    "# Calculate the percentage of movies with low release date for each year\n",
    "low_year_percentages = {}\n",
    "for year in movie_characterDF['Year'].unique():\n",
    "    total_count = complete_date_count\n",
    "    if total_count > 0:\n",
    "        low_year_percentages[str(year)] = (low_date_counts[year] / total_count) * 100\n",
    "    else:\n",
    "        low_year_percentages[str(year)] = 0\n",
    "\n",
    "# Calculate the percentage of movies with NaN release date for each year\n",
    "nan_year_percentages = {}\n",
    "for year in movie_characterDF['Year'].unique():\n",
    "    total_count = movie_characterDF.shape[0]\n",
    "    if total_count > 0:\n",
    "        nan_year_percentages[str(year)] = (nan_date_counts[year] / total_count) * 100\n",
    "    else:\n",
    "        nan_year_percentages[str(year)] = 0\n",
    "\n",
    "# Sort the years in ascending order\n",
    "sorted_complete_years = sorted(complete_year_percentages.keys())\n",
    "sorted_partial_years = sorted(partial_year_percentages.keys())\n",
    "sorted_low_years = sorted(low_year_percentages.keys())\n",
    "sorted_nan_years = sorted(nan_year_percentages.keys())\n",
    "\n",
    "df_to_plot = pd.DataFrame({'Year': sorted_complete_years, 'Complete': [complete_year_percentages[year] for year in sorted_complete_years], 'Partial': [partial_year_percentages[year] for year in sorted_partial_years], 'Low': [low_year_percentages[year] for year in sorted_low_years], 'NaN': [nan_year_percentages[year] for year in sorted_nan_years]})\n",
    "\n",
    "# Create a line plot of the percentage of movies with color for Complete, Partial\n",
    "lineplot = px.line(df_to_plot, x='Year', y=['Complete', 'Partial', 'Low', 'NaN'], title='Percentage of Movies with Complete Release Date Each Year')\n",
    "\n",
    "# Create a single plot with multiple lines representing the percentage of movies with complete, partial, low, and NaN release date for each year\n",
    "# lineplot = px.line(x=sorted_complete_years, y=[complete_year_percentages[year] for year in sorted_complete_years], title='Percentage of Movies with Complete Release Date Each Year')\n",
    "# lineplot.add_scatter(x=sorted_partial_years, y=[partial_year_percentages[year] for year in sorted_partial_years], name='Partial')\n",
    "# lineplot.add_scatter(x=sorted_low_years, y=[low_year_percentages[year] for year in sorted_low_years], name='Low')\n",
    "# lineplot.add_scatter(x=sorted_nan_years, y=[nan_year_percentages[year] for year in sorted_nan_years], name='NaN')\n",
    "\n",
    "# Create a subplot with the line plot\n",
    "fig = make_subplots(rows=1, cols=1, shared_xaxes=True, vertical_spacing=0.1, subplot_titles=(\"Percentage of Movies with Complete Release Date Each Year\", \"\"))\n",
    "fig.add_trace(lineplot['data'][0], row=1, col=1)\n",
    "\n",
    "# Update the layout of the subplot\n",
    "fig.update_xaxes(title_text=\"Year\", row=1, col=1)\n",
    "fig.update_yaxes(title_text=\"Percentage of Movies with Complete Release Date (%)\", row=1, col=1)\n",
    "\n",
    "# Show the subplot\n",
    "fig.show()"
   ]
  },
  {
   "cell_type": "code",
   "execution_count": 28,
   "metadata": {},
   "outputs": [
    {
     "name": "stderr",
     "output_type": "stream",
     "text": [
      "C:\\Users\\paul\\AppData\\Local\\Temp\\ipykernel_24016\\3406488909.py:2: FutureWarning: Series.__getitem__ treating keys as positions is deprecated. In a future version, integer keys will always be treated as labels (consistent with DataFrame behavior). To access a value by position, use `ser.iloc[pos]`\n",
      "  movie_characterDF['Movie release date'] = movie_characterDF[['Movie release date_x', 'Movie release date_y']].apply(lambda x: x[0] if pd.notnull(x[0]) else x[1], axis=1)\n"
     ]
    },
    {
     "name": "stdout",
     "output_type": "stream",
     "text": [
      "52.19779547595454\n"
     ]
    }
   ],
   "source": [
    "# Merge 'Movie release date_x' and 'Movie release date_y' columns on 'Movie release date'\n",
    "movie_characterDF['Movie release date'] = movie_characterDF[['Movie release date_x', 'Movie release date_y']].apply(lambda x: x[0] if pd.notnull(x[0]) else x[1], axis=1)\n",
    "\n",
    "# Create a new DataFrame with only unique Freebase movie ID and the columns of 'Movie release date' and 'Year State'\n",
    "unique_movies = movie_characterDF[['Freebase movie ID', 'Movie release date']].drop_duplicates(subset=['Freebase movie ID'])\n",
    "\n",
    "# Add a column depending on the year state\n",
    "unique_movies['Year State'] = unique_movies['Movie release date'].apply(lambda x: 'Full' if isinstance(x, str) and len(x) == 10 else ('Partial' if isinstance(x, str) and len(x) > 4 else ('Year' if isinstance(x, str) and len(x) == 4 else 'NaN')))\n",
    "\n",
    "unique_movies['Year'] = unique_movies['Movie release date'].str[:4].astype(float)\n",
    "unique_movies['Month'] = unique_movies['Movie release date'].apply(lambda x: float(x[5:7]) if isinstance(x, str) and len(x) >= 7 else None)\n",
    "\n",
    "percent_num_months = unique_movies['Month'].count() / unique_movies.shape[0] * 100\n",
    "print(percent_num_months)"
   ]
  },
  {
   "cell_type": "code",
   "execution_count": 51,
   "metadata": {},
   "outputs": [
    {
     "data": {
      "application/vnd.plotly.v1+json": {
       "config": {
        "plotlyServerURL": "https://plot.ly"
       },
       "data": [
        {
         "alignmentgroup": "True",
         "hovertemplate": "Period=%{x}<br>Percentage of Films (%)=%{y}<extra></extra>",
         "legendgroup": "",
         "marker": {
          "color": "#636efa",
          "pattern": {
           "shape": ""
          }
         },
         "name": "",
         "offsetgroup": "",
         "orientation": "v",
         "showlegend": false,
         "textposition": "auto",
         "type": "bar",
         "x": [
          "Period 10",
          "Period 5",
          "Period 8",
          "Period 9",
          "Period 3",
          "Period 4",
          "Period 1",
          "Period 7",
          "Period 2",
          "Period 6"
         ],
         "xaxis": "x",
         "y": [
          17.587362598729698,
          16.02409356176905,
          10.003046851196475,
          9.911641315302225,
          8.453840204373403,
          8.207748376965805,
          7.83040757494082,
          7.828063843251225,
          7.525722455293319,
          6.628073218177984
         ],
         "yaxis": "y"
        }
       ],
       "layout": {
        "barmode": "relative",
        "legend": {
         "tracegroupgap": 0
        },
        "template": {
         "data": {
          "bar": [
           {
            "error_x": {
             "color": "#2a3f5f"
            },
            "error_y": {
             "color": "#2a3f5f"
            },
            "marker": {
             "line": {
              "color": "#E5ECF6",
              "width": 0.5
             },
             "pattern": {
              "fillmode": "overlay",
              "size": 10,
              "solidity": 0.2
             }
            },
            "type": "bar"
           }
          ],
          "barpolar": [
           {
            "marker": {
             "line": {
              "color": "#E5ECF6",
              "width": 0.5
             },
             "pattern": {
              "fillmode": "overlay",
              "size": 10,
              "solidity": 0.2
             }
            },
            "type": "barpolar"
           }
          ],
          "carpet": [
           {
            "aaxis": {
             "endlinecolor": "#2a3f5f",
             "gridcolor": "white",
             "linecolor": "white",
             "minorgridcolor": "white",
             "startlinecolor": "#2a3f5f"
            },
            "baxis": {
             "endlinecolor": "#2a3f5f",
             "gridcolor": "white",
             "linecolor": "white",
             "minorgridcolor": "white",
             "startlinecolor": "#2a3f5f"
            },
            "type": "carpet"
           }
          ],
          "choropleth": [
           {
            "colorbar": {
             "outlinewidth": 0,
             "ticks": ""
            },
            "type": "choropleth"
           }
          ],
          "contour": [
           {
            "colorbar": {
             "outlinewidth": 0,
             "ticks": ""
            },
            "colorscale": [
             [
              0,
              "#0d0887"
             ],
             [
              0.1111111111111111,
              "#46039f"
             ],
             [
              0.2222222222222222,
              "#7201a8"
             ],
             [
              0.3333333333333333,
              "#9c179e"
             ],
             [
              0.4444444444444444,
              "#bd3786"
             ],
             [
              0.5555555555555556,
              "#d8576b"
             ],
             [
              0.6666666666666666,
              "#ed7953"
             ],
             [
              0.7777777777777778,
              "#fb9f3a"
             ],
             [
              0.8888888888888888,
              "#fdca26"
             ],
             [
              1,
              "#f0f921"
             ]
            ],
            "type": "contour"
           }
          ],
          "contourcarpet": [
           {
            "colorbar": {
             "outlinewidth": 0,
             "ticks": ""
            },
            "type": "contourcarpet"
           }
          ],
          "heatmap": [
           {
            "colorbar": {
             "outlinewidth": 0,
             "ticks": ""
            },
            "colorscale": [
             [
              0,
              "#0d0887"
             ],
             [
              0.1111111111111111,
              "#46039f"
             ],
             [
              0.2222222222222222,
              "#7201a8"
             ],
             [
              0.3333333333333333,
              "#9c179e"
             ],
             [
              0.4444444444444444,
              "#bd3786"
             ],
             [
              0.5555555555555556,
              "#d8576b"
             ],
             [
              0.6666666666666666,
              "#ed7953"
             ],
             [
              0.7777777777777778,
              "#fb9f3a"
             ],
             [
              0.8888888888888888,
              "#fdca26"
             ],
             [
              1,
              "#f0f921"
             ]
            ],
            "type": "heatmap"
           }
          ],
          "heatmapgl": [
           {
            "colorbar": {
             "outlinewidth": 0,
             "ticks": ""
            },
            "colorscale": [
             [
              0,
              "#0d0887"
             ],
             [
              0.1111111111111111,
              "#46039f"
             ],
             [
              0.2222222222222222,
              "#7201a8"
             ],
             [
              0.3333333333333333,
              "#9c179e"
             ],
             [
              0.4444444444444444,
              "#bd3786"
             ],
             [
              0.5555555555555556,
              "#d8576b"
             ],
             [
              0.6666666666666666,
              "#ed7953"
             ],
             [
              0.7777777777777778,
              "#fb9f3a"
             ],
             [
              0.8888888888888888,
              "#fdca26"
             ],
             [
              1,
              "#f0f921"
             ]
            ],
            "type": "heatmapgl"
           }
          ],
          "histogram": [
           {
            "marker": {
             "pattern": {
              "fillmode": "overlay",
              "size": 10,
              "solidity": 0.2
             }
            },
            "type": "histogram"
           }
          ],
          "histogram2d": [
           {
            "colorbar": {
             "outlinewidth": 0,
             "ticks": ""
            },
            "colorscale": [
             [
              0,
              "#0d0887"
             ],
             [
              0.1111111111111111,
              "#46039f"
             ],
             [
              0.2222222222222222,
              "#7201a8"
             ],
             [
              0.3333333333333333,
              "#9c179e"
             ],
             [
              0.4444444444444444,
              "#bd3786"
             ],
             [
              0.5555555555555556,
              "#d8576b"
             ],
             [
              0.6666666666666666,
              "#ed7953"
             ],
             [
              0.7777777777777778,
              "#fb9f3a"
             ],
             [
              0.8888888888888888,
              "#fdca26"
             ],
             [
              1,
              "#f0f921"
             ]
            ],
            "type": "histogram2d"
           }
          ],
          "histogram2dcontour": [
           {
            "colorbar": {
             "outlinewidth": 0,
             "ticks": ""
            },
            "colorscale": [
             [
              0,
              "#0d0887"
             ],
             [
              0.1111111111111111,
              "#46039f"
             ],
             [
              0.2222222222222222,
              "#7201a8"
             ],
             [
              0.3333333333333333,
              "#9c179e"
             ],
             [
              0.4444444444444444,
              "#bd3786"
             ],
             [
              0.5555555555555556,
              "#d8576b"
             ],
             [
              0.6666666666666666,
              "#ed7953"
             ],
             [
              0.7777777777777778,
              "#fb9f3a"
             ],
             [
              0.8888888888888888,
              "#fdca26"
             ],
             [
              1,
              "#f0f921"
             ]
            ],
            "type": "histogram2dcontour"
           }
          ],
          "mesh3d": [
           {
            "colorbar": {
             "outlinewidth": 0,
             "ticks": ""
            },
            "type": "mesh3d"
           }
          ],
          "parcoords": [
           {
            "line": {
             "colorbar": {
              "outlinewidth": 0,
              "ticks": ""
             }
            },
            "type": "parcoords"
           }
          ],
          "pie": [
           {
            "automargin": true,
            "type": "pie"
           }
          ],
          "scatter": [
           {
            "fillpattern": {
             "fillmode": "overlay",
             "size": 10,
             "solidity": 0.2
            },
            "type": "scatter"
           }
          ],
          "scatter3d": [
           {
            "line": {
             "colorbar": {
              "outlinewidth": 0,
              "ticks": ""
             }
            },
            "marker": {
             "colorbar": {
              "outlinewidth": 0,
              "ticks": ""
             }
            },
            "type": "scatter3d"
           }
          ],
          "scattercarpet": [
           {
            "marker": {
             "colorbar": {
              "outlinewidth": 0,
              "ticks": ""
             }
            },
            "type": "scattercarpet"
           }
          ],
          "scattergeo": [
           {
            "marker": {
             "colorbar": {
              "outlinewidth": 0,
              "ticks": ""
             }
            },
            "type": "scattergeo"
           }
          ],
          "scattergl": [
           {
            "marker": {
             "colorbar": {
              "outlinewidth": 0,
              "ticks": ""
             }
            },
            "type": "scattergl"
           }
          ],
          "scattermapbox": [
           {
            "marker": {
             "colorbar": {
              "outlinewidth": 0,
              "ticks": ""
             }
            },
            "type": "scattermapbox"
           }
          ],
          "scatterpolar": [
           {
            "marker": {
             "colorbar": {
              "outlinewidth": 0,
              "ticks": ""
             }
            },
            "type": "scatterpolar"
           }
          ],
          "scatterpolargl": [
           {
            "marker": {
             "colorbar": {
              "outlinewidth": 0,
              "ticks": ""
             }
            },
            "type": "scatterpolargl"
           }
          ],
          "scatterternary": [
           {
            "marker": {
             "colorbar": {
              "outlinewidth": 0,
              "ticks": ""
             }
            },
            "type": "scatterternary"
           }
          ],
          "surface": [
           {
            "colorbar": {
             "outlinewidth": 0,
             "ticks": ""
            },
            "colorscale": [
             [
              0,
              "#0d0887"
             ],
             [
              0.1111111111111111,
              "#46039f"
             ],
             [
              0.2222222222222222,
              "#7201a8"
             ],
             [
              0.3333333333333333,
              "#9c179e"
             ],
             [
              0.4444444444444444,
              "#bd3786"
             ],
             [
              0.5555555555555556,
              "#d8576b"
             ],
             [
              0.6666666666666666,
              "#ed7953"
             ],
             [
              0.7777777777777778,
              "#fb9f3a"
             ],
             [
              0.8888888888888888,
              "#fdca26"
             ],
             [
              1,
              "#f0f921"
             ]
            ],
            "type": "surface"
           }
          ],
          "table": [
           {
            "cells": {
             "fill": {
              "color": "#EBF0F8"
             },
             "line": {
              "color": "white"
             }
            },
            "header": {
             "fill": {
              "color": "#C8D4E3"
             },
             "line": {
              "color": "white"
             }
            },
            "type": "table"
           }
          ]
         },
         "layout": {
          "annotationdefaults": {
           "arrowcolor": "#2a3f5f",
           "arrowhead": 0,
           "arrowwidth": 1
          },
          "autotypenumbers": "strict",
          "coloraxis": {
           "colorbar": {
            "outlinewidth": 0,
            "ticks": ""
           }
          },
          "colorscale": {
           "diverging": [
            [
             0,
             "#8e0152"
            ],
            [
             0.1,
             "#c51b7d"
            ],
            [
             0.2,
             "#de77ae"
            ],
            [
             0.3,
             "#f1b6da"
            ],
            [
             0.4,
             "#fde0ef"
            ],
            [
             0.5,
             "#f7f7f7"
            ],
            [
             0.6,
             "#e6f5d0"
            ],
            [
             0.7,
             "#b8e186"
            ],
            [
             0.8,
             "#7fbc41"
            ],
            [
             0.9,
             "#4d9221"
            ],
            [
             1,
             "#276419"
            ]
           ],
           "sequential": [
            [
             0,
             "#0d0887"
            ],
            [
             0.1111111111111111,
             "#46039f"
            ],
            [
             0.2222222222222222,
             "#7201a8"
            ],
            [
             0.3333333333333333,
             "#9c179e"
            ],
            [
             0.4444444444444444,
             "#bd3786"
            ],
            [
             0.5555555555555556,
             "#d8576b"
            ],
            [
             0.6666666666666666,
             "#ed7953"
            ],
            [
             0.7777777777777778,
             "#fb9f3a"
            ],
            [
             0.8888888888888888,
             "#fdca26"
            ],
            [
             1,
             "#f0f921"
            ]
           ],
           "sequentialminus": [
            [
             0,
             "#0d0887"
            ],
            [
             0.1111111111111111,
             "#46039f"
            ],
            [
             0.2222222222222222,
             "#7201a8"
            ],
            [
             0.3333333333333333,
             "#9c179e"
            ],
            [
             0.4444444444444444,
             "#bd3786"
            ],
            [
             0.5555555555555556,
             "#d8576b"
            ],
            [
             0.6666666666666666,
             "#ed7953"
            ],
            [
             0.7777777777777778,
             "#fb9f3a"
            ],
            [
             0.8888888888888888,
             "#fdca26"
            ],
            [
             1,
             "#f0f921"
            ]
           ]
          },
          "colorway": [
           "#636efa",
           "#EF553B",
           "#00cc96",
           "#ab63fa",
           "#FFA15A",
           "#19d3f3",
           "#FF6692",
           "#B6E880",
           "#FF97FF",
           "#FECB52"
          ],
          "font": {
           "color": "#2a3f5f"
          },
          "geo": {
           "bgcolor": "white",
           "lakecolor": "white",
           "landcolor": "#E5ECF6",
           "showlakes": true,
           "showland": true,
           "subunitcolor": "white"
          },
          "hoverlabel": {
           "align": "left"
          },
          "hovermode": "closest",
          "mapbox": {
           "style": "light"
          },
          "paper_bgcolor": "white",
          "plot_bgcolor": "#E5ECF6",
          "polar": {
           "angularaxis": {
            "gridcolor": "white",
            "linecolor": "white",
            "ticks": ""
           },
           "bgcolor": "#E5ECF6",
           "radialaxis": {
            "gridcolor": "white",
            "linecolor": "white",
            "ticks": ""
           }
          },
          "scene": {
           "xaxis": {
            "backgroundcolor": "#E5ECF6",
            "gridcolor": "white",
            "gridwidth": 2,
            "linecolor": "white",
            "showbackground": true,
            "ticks": "",
            "zerolinecolor": "white"
           },
           "yaxis": {
            "backgroundcolor": "#E5ECF6",
            "gridcolor": "white",
            "gridwidth": 2,
            "linecolor": "white",
            "showbackground": true,
            "ticks": "",
            "zerolinecolor": "white"
           },
           "zaxis": {
            "backgroundcolor": "#E5ECF6",
            "gridcolor": "white",
            "gridwidth": 2,
            "linecolor": "white",
            "showbackground": true,
            "ticks": "",
            "zerolinecolor": "white"
           }
          },
          "shapedefaults": {
           "line": {
            "color": "#2a3f5f"
           }
          },
          "ternary": {
           "aaxis": {
            "gridcolor": "white",
            "linecolor": "white",
            "ticks": ""
           },
           "baxis": {
            "gridcolor": "white",
            "linecolor": "white",
            "ticks": ""
           },
           "bgcolor": "#E5ECF6",
           "caxis": {
            "gridcolor": "white",
            "linecolor": "white",
            "ticks": ""
           }
          },
          "title": {
           "x": 0.05
          },
          "xaxis": {
           "automargin": true,
           "gridcolor": "white",
           "linecolor": "white",
           "ticks": "",
           "title": {
            "standoff": 15
           },
           "zerolinecolor": "white",
           "zerolinewidth": 2
          },
          "yaxis": {
           "automargin": true,
           "gridcolor": "white",
           "linecolor": "white",
           "ticks": "",
           "title": {
            "standoff": 15
           },
           "zerolinecolor": "white",
           "zerolinewidth": 2
          }
         }
        },
        "title": {
         "text": "Percentage of Films Released in Each Period"
        },
        "xaxis": {
         "anchor": "y",
         "categoryarray": [
          "Period 1",
          "Period 2",
          "Period 3",
          "Period 4",
          "Period 5",
          "Period 6",
          "Period 7",
          "Period 8",
          "Period 9",
          "Period 10"
         ],
         "categoryorder": "array",
         "domain": [
          0,
          1
         ],
         "title": {
          "text": "Period"
         }
        },
        "yaxis": {
         "anchor": "x",
         "domain": [
          0,
          1
         ],
         "title": {
          "text": "Percentage of Films (%)"
         }
        }
       }
      }
     },
     "metadata": {},
     "output_type": "display_data"
    }
   ],
   "source": [
    "# Number of periods \n",
    "num_periods = 10\n",
    "\n",
    "# Define the bins for the histogram\n",
    "bins = np.linspace(unique_movies['Month'].min()-1, unique_movies['Month'].max(), num_periods+1)\n",
    "\n",
    "# Cut the 'Month' column into 4 periods based on the bins\n",
    "unique_movies['Period {}'.format(num_periods)] = pd.cut(unique_movies['Month'], bins=bins, labels=['Period {}'.format(i) for i in range(1, num_periods+1)])\n",
    "\n",
    "# Calculate the percentage of films released in each period\n",
    "period_counts = unique_movies['Period {}'.format(num_periods)].value_counts(normalize=True) * 100\n",
    "\n",
    "# Create a bar chart of film releases by period using Plotly\n",
    "fig = px.bar(x=period_counts.index, y=period_counts.values, labels={'x': 'Period', 'y': 'Percentage of Films (%)'}, title='Percentage of Films Released in Each Period')\n",
    "\n",
    "# Set the order of the x-axis categories\n",
    "fig.update_xaxes(categoryorder='array', categoryarray=['Period {}'.format(i) for i in range(1, num_periods+1)])\n",
    "\n",
    "# Show the plot\n",
    "fig.show()"
   ]
  },
  {
   "cell_type": "code",
   "execution_count": null,
   "metadata": {},
   "outputs": [
    {
     "ename": "TypeError",
     "evalue": "'<' not supported between instances of 'float' and 'str'",
     "output_type": "error",
     "traceback": [
      "\u001b[1;31m---------------------------------------------------------------------------\u001b[0m",
      "\u001b[1;31mTypeError\u001b[0m                                 Traceback (most recent call last)",
      "\u001b[1;32mc:\\Users\\paul\\OneDrive\\Documents\\GitHub\\ada-2023-project-tea4two\\Projet ADA V2.0.ipynb Cell 16\u001b[0m line \u001b[0;36m3\n\u001b[0;32m     <a href='vscode-notebook-cell:/c%3A/Users/paul/OneDrive/Documents/GitHub/ada-2023-project-tea4two/Projet%20ADA%20V2.0.ipynb#X43sZmlsZQ%3D%3D?line=33'>34</a>\u001b[0m             year_percentages[release_date_state][year] \u001b[39m=\u001b[39m \u001b[39m0\u001b[39m\n\u001b[0;32m     <a href='vscode-notebook-cell:/c%3A/Users/paul/OneDrive/Documents/GitHub/ada-2023-project-tea4two/Projet%20ADA%20V2.0.ipynb#X43sZmlsZQ%3D%3D?line=35'>36</a>\u001b[0m \u001b[39m# Sort the years in ascending order\u001b[39;00m\n\u001b[1;32m---> <a href='vscode-notebook-cell:/c%3A/Users/paul/OneDrive/Documents/GitHub/ada-2023-project-tea4two/Projet%20ADA%20V2.0.ipynb#X43sZmlsZQ%3D%3D?line=36'>37</a>\u001b[0m sorted_years \u001b[39m=\u001b[39m \u001b[39msorted\u001b[39;49m(year_percentages[\u001b[39mlist\u001b[39;49m(year_percentages\u001b[39m.\u001b[39;49mkeys())[\u001b[39m0\u001b[39;49m]]\u001b[39m.\u001b[39;49mkeys())\n\u001b[0;32m     <a href='vscode-notebook-cell:/c%3A/Users/paul/OneDrive/Documents/GitHub/ada-2023-project-tea4two/Projet%20ADA%20V2.0.ipynb#X43sZmlsZQ%3D%3D?line=38'>39</a>\u001b[0m \u001b[39m# Create line plots for each release date length\u001b[39;00m\n\u001b[0;32m     <a href='vscode-notebook-cell:/c%3A/Users/paul/OneDrive/Documents/GitHub/ada-2023-project-tea4two/Projet%20ADA%20V2.0.ipynb#X43sZmlsZQ%3D%3D?line=39'>40</a>\u001b[0m line_plots \u001b[39m=\u001b[39m []\n",
      "\u001b[1;31mTypeError\u001b[0m: '<' not supported between instances of 'float' and 'str'"
     ]
    }
   ],
   "source": [
    "import pandas as pd\n",
    "from plotly.subplots import make_subplots\n",
    "import plotly.graph_objects as go\n",
    "\n",
    "# Add a new column named \"Release State Form\"\n",
    "movie_characterDF['Release Date State'] = movie_characterDF['Release Date'].str.len()\n",
    "\n",
    "# Replace specific release date lengths with corresponding labels\n",
    "movie_characterDF['Release Date State'] = movie_characterDF['Release Date State'].replace({\n",
    "    10.0: 'Full',\n",
    "    7.0: 'Partial',\n",
    "    4.0: 'Low'\n",
    "})\n",
    "\n",
    "# Count the number of movies for each release date length and year\n",
    "release_date_counts = {}\n",
    "for release_date_state in movie_characterDF['Release Date State'].unique():\n",
    "    release_date_counts[release_date_state] = {}\n",
    "    for year in movie_characterDF['Year'].unique():\n",
    "        release_date_counts[release_date_state][year] = 0\n",
    "        for date in movie_characterDF[movie_characterDF['Year'] == year]['Release Date'].astype(str):\n",
    "            if len(date) == (10 if release_date_state == 'Full' else (7 if release_date_state == 'Partial' else 4)):\n",
    "                release_date_counts[release_date_state][year] += 1\n",
    "\n",
    "# Calculate the percentage of movies for each release date length and year\n",
    "year_percentages = {}\n",
    "for release_date_state in movie_characterDF['Release Date State'].unique():\n",
    "    year_percentages[release_date_state] = {}\n",
    "    for year in movie_characterDF['Year'].unique():\n",
    "        total_count = sum(release_date_counts[release_date_length][year] for release_date_length in release_date_counts)\n",
    "        if total_count > 0:\n",
    "            year_percentages[release_date_state][year] = (release_date_counts[release_date_state][year] / total_count) * 100\n",
    "        else:\n",
    "            year_percentages[release_date_state][year] = 0\n",
    "\n",
    "# Sort the years in ascending order\n",
    "sorted_years = sorted(year_percentages[list(year_percentages.keys())[0]].keys())\n",
    "\n",
    "# Create line plots for each release date length\n",
    "line_plots = []\n",
    "for release_date_state in movie_characterDF['Release Date State'].unique():\n",
    "    line_plots.append(go.Scatter(\n",
    "        x=sorted_years,\n",
    "        y=[year_percentages[release_date_state][year] for year in sorted_years],\n",
    "        name=release_date_state,\n",
    "        mode='lines+markers'\n",
    "    ))\n",
    "\n",
    "# Create a subplot with the line plots\n",
    "fig = make_subplots(rows=1, cols=1, shared_xaxes=True, vertical_spacing=0.1)\n",
    "fig.add_traces(line_plots)\n",
    "\n",
    "# Update the layout of the subplot\n",
    "fig.update_xaxes(title_text=\"Year\", row=1, col=1)\n",
    "fig.update_yaxes(title_text=\"Percentage of Movies (%)\", row=1, col=1)\n",
    "\n",
    "# Show the subplot\n",
    "fig.show()\n"
   ]
  },
  {
   "cell_type": "code",
   "execution_count": null,
   "metadata": {},
   "outputs": [
    {
     "data": {
      "text/html": [
       "<div>\n",
       "<style scoped>\n",
       "    .dataframe tbody tr th:only-of-type {\n",
       "        vertical-align: middle;\n",
       "    }\n",
       "\n",
       "    .dataframe tbody tr th {\n",
       "        vertical-align: top;\n",
       "    }\n",
       "\n",
       "    .dataframe thead th {\n",
       "        text-align: right;\n",
       "    }\n",
       "</style>\n",
       "<table border=\"1\" class=\"dataframe\">\n",
       "  <thead>\n",
       "    <tr style=\"text-align: right;\">\n",
       "      <th></th>\n",
       "      <th>Wikipedia movie ID</th>\n",
       "      <th>Freebase movie ID</th>\n",
       "      <th>Movie name</th>\n",
       "      <th>Movie box office revenue</th>\n",
       "      <th>Movie runtime</th>\n",
       "      <th>Movie languages</th>\n",
       "      <th>Movie countries</th>\n",
       "      <th>Movie genres</th>\n",
       "      <th>Character Name</th>\n",
       "      <th>Actor DOB</th>\n",
       "      <th>Actor gender</th>\n",
       "      <th>Actor height</th>\n",
       "      <th>Actor ethnicity</th>\n",
       "      <th>Actor Name</th>\n",
       "      <th>Actor age at movie release</th>\n",
       "      <th>Freebase character map</th>\n",
       "      <th>Release Date</th>\n",
       "      <th>Year</th>\n",
       "      <th>Release Date State</th>\n",
       "      <th>Release Date v</th>\n",
       "    </tr>\n",
       "  </thead>\n",
       "  <tbody>\n",
       "    <tr>\n",
       "      <th>0</th>\n",
       "      <td>975900</td>\n",
       "      <td>/m/03vyhn</td>\n",
       "      <td>Ghosts of Mars</td>\n",
       "      <td>14010832.0</td>\n",
       "      <td>98.0</td>\n",
       "      <td>{\"/m/02h40lc\": \"English Language\"}</td>\n",
       "      <td>{\"/m/09c7w0\": \"United States of America\"}</td>\n",
       "      <td>{\"/m/01jfsb\": \"Thriller\", \"/m/06n90\": \"Science...</td>\n",
       "      <td>Akooshay</td>\n",
       "      <td>1958-08-26</td>\n",
       "      <td>F</td>\n",
       "      <td>1.620</td>\n",
       "      <td>NaN</td>\n",
       "      <td>Wanda De Jesus</td>\n",
       "      <td>42.0</td>\n",
       "      <td>/m/0bgchxw</td>\n",
       "      <td>2001-08-24</td>\n",
       "      <td>2001</td>\n",
       "      <td>Full</td>\n",
       "      <td>Full</td>\n",
       "    </tr>\n",
       "    <tr>\n",
       "      <th>1</th>\n",
       "      <td>975900</td>\n",
       "      <td>/m/03vyhn</td>\n",
       "      <td>Ghosts of Mars</td>\n",
       "      <td>14010832.0</td>\n",
       "      <td>98.0</td>\n",
       "      <td>{\"/m/02h40lc\": \"English Language\"}</td>\n",
       "      <td>{\"/m/09c7w0\": \"United States of America\"}</td>\n",
       "      <td>{\"/m/01jfsb\": \"Thriller\", \"/m/06n90\": \"Science...</td>\n",
       "      <td>Lieutenant Melanie Ballard</td>\n",
       "      <td>1974-08-15</td>\n",
       "      <td>F</td>\n",
       "      <td>1.780</td>\n",
       "      <td>/m/044038p</td>\n",
       "      <td>Natasha Henstridge</td>\n",
       "      <td>27.0</td>\n",
       "      <td>/m/0jys3m</td>\n",
       "      <td>2001-08-24</td>\n",
       "      <td>2001</td>\n",
       "      <td>Full</td>\n",
       "      <td>Full</td>\n",
       "    </tr>\n",
       "    <tr>\n",
       "      <th>2</th>\n",
       "      <td>975900</td>\n",
       "      <td>/m/03vyhn</td>\n",
       "      <td>Ghosts of Mars</td>\n",
       "      <td>14010832.0</td>\n",
       "      <td>98.0</td>\n",
       "      <td>{\"/m/02h40lc\": \"English Language\"}</td>\n",
       "      <td>{\"/m/09c7w0\": \"United States of America\"}</td>\n",
       "      <td>{\"/m/01jfsb\": \"Thriller\", \"/m/06n90\": \"Science...</td>\n",
       "      <td>Desolation Williams</td>\n",
       "      <td>1969-06-15</td>\n",
       "      <td>M</td>\n",
       "      <td>1.727</td>\n",
       "      <td>/m/0x67</td>\n",
       "      <td>Ice Cube</td>\n",
       "      <td>32.0</td>\n",
       "      <td>/m/0jys3g</td>\n",
       "      <td>2001-08-24</td>\n",
       "      <td>2001</td>\n",
       "      <td>Full</td>\n",
       "      <td>Full</td>\n",
       "    </tr>\n",
       "    <tr>\n",
       "      <th>3</th>\n",
       "      <td>975900</td>\n",
       "      <td>/m/03vyhn</td>\n",
       "      <td>Ghosts of Mars</td>\n",
       "      <td>14010832.0</td>\n",
       "      <td>98.0</td>\n",
       "      <td>{\"/m/02h40lc\": \"English Language\"}</td>\n",
       "      <td>{\"/m/09c7w0\": \"United States of America\"}</td>\n",
       "      <td>{\"/m/01jfsb\": \"Thriller\", \"/m/06n90\": \"Science...</td>\n",
       "      <td>Sgt Jericho Butler</td>\n",
       "      <td>1967-09-12</td>\n",
       "      <td>M</td>\n",
       "      <td>1.750</td>\n",
       "      <td>NaN</td>\n",
       "      <td>Jason Statham</td>\n",
       "      <td>33.0</td>\n",
       "      <td>/m/02vchl6</td>\n",
       "      <td>2001-08-24</td>\n",
       "      <td>2001</td>\n",
       "      <td>Full</td>\n",
       "      <td>Full</td>\n",
       "    </tr>\n",
       "    <tr>\n",
       "      <th>4</th>\n",
       "      <td>975900</td>\n",
       "      <td>/m/03vyhn</td>\n",
       "      <td>Ghosts of Mars</td>\n",
       "      <td>14010832.0</td>\n",
       "      <td>98.0</td>\n",
       "      <td>{\"/m/02h40lc\": \"English Language\"}</td>\n",
       "      <td>{\"/m/09c7w0\": \"United States of America\"}</td>\n",
       "      <td>{\"/m/01jfsb\": \"Thriller\", \"/m/06n90\": \"Science...</td>\n",
       "      <td>Bashira Kincaid</td>\n",
       "      <td>1977-09-25</td>\n",
       "      <td>F</td>\n",
       "      <td>1.650</td>\n",
       "      <td>NaN</td>\n",
       "      <td>Clea DuVall</td>\n",
       "      <td>23.0</td>\n",
       "      <td>/m/02vbb3r</td>\n",
       "      <td>2001-08-24</td>\n",
       "      <td>2001</td>\n",
       "      <td>Full</td>\n",
       "      <td>Full</td>\n",
       "    </tr>\n",
       "    <tr>\n",
       "      <th>...</th>\n",
       "      <td>...</td>\n",
       "      <td>...</td>\n",
       "      <td>...</td>\n",
       "      <td>...</td>\n",
       "      <td>...</td>\n",
       "      <td>...</td>\n",
       "      <td>...</td>\n",
       "      <td>...</td>\n",
       "      <td>...</td>\n",
       "      <td>...</td>\n",
       "      <td>...</td>\n",
       "      <td>...</td>\n",
       "      <td>...</td>\n",
       "      <td>...</td>\n",
       "      <td>...</td>\n",
       "      <td>...</td>\n",
       "      <td>...</td>\n",
       "      <td>...</td>\n",
       "      <td>...</td>\n",
       "      <td>...</td>\n",
       "    </tr>\n",
       "    <tr>\n",
       "      <th>468075</th>\n",
       "      <td>12476867</td>\n",
       "      <td>/m/02w7zz8</td>\n",
       "      <td>Spliced</td>\n",
       "      <td>NaN</td>\n",
       "      <td>86.0</td>\n",
       "      <td>{\"/m/02h40lc\": \"English Language\"}</td>\n",
       "      <td>{\"/m/0d060g\": \"Canada\"}</td>\n",
       "      <td>{\"/m/01jfsb\": \"Thriller\", \"/m/03npn\": \"Horror\"...</td>\n",
       "      <td>NaN</td>\n",
       "      <td>NaN</td>\n",
       "      <td>NaN</td>\n",
       "      <td>NaN</td>\n",
       "      <td>NaN</td>\n",
       "      <td>Billy Morton</td>\n",
       "      <td>NaN</td>\n",
       "      <td>/m/0gchkcy</td>\n",
       "      <td>2002</td>\n",
       "      <td>2002</td>\n",
       "      <td>4.0</td>\n",
       "      <td>Year</td>\n",
       "    </tr>\n",
       "    <tr>\n",
       "      <th>468076</th>\n",
       "      <td>12476867</td>\n",
       "      <td>/m/02w7zz8</td>\n",
       "      <td>Spliced</td>\n",
       "      <td>NaN</td>\n",
       "      <td>86.0</td>\n",
       "      <td>{\"/m/02h40lc\": \"English Language\"}</td>\n",
       "      <td>{\"/m/0d060g\": \"Canada\"}</td>\n",
       "      <td>{\"/m/01jfsb\": \"Thriller\", \"/m/03npn\": \"Horror\"...</td>\n",
       "      <td>NaN</td>\n",
       "      <td>1982-01-28</td>\n",
       "      <td>NaN</td>\n",
       "      <td>NaN</td>\n",
       "      <td>NaN</td>\n",
       "      <td>Andrea Runge</td>\n",
       "      <td>19.0</td>\n",
       "      <td>/m/0gckh4f</td>\n",
       "      <td>2002</td>\n",
       "      <td>2002</td>\n",
       "      <td>4.0</td>\n",
       "      <td>Year</td>\n",
       "    </tr>\n",
       "    <tr>\n",
       "      <th>468077</th>\n",
       "      <td>12476867</td>\n",
       "      <td>/m/02w7zz8</td>\n",
       "      <td>Spliced</td>\n",
       "      <td>NaN</td>\n",
       "      <td>86.0</td>\n",
       "      <td>{\"/m/02h40lc\": \"English Language\"}</td>\n",
       "      <td>{\"/m/0d060g\": \"Canada\"}</td>\n",
       "      <td>{\"/m/01jfsb\": \"Thriller\", \"/m/03npn\": \"Horror\"...</td>\n",
       "      <td>NaN</td>\n",
       "      <td>NaN</td>\n",
       "      <td>F</td>\n",
       "      <td>NaN</td>\n",
       "      <td>NaN</td>\n",
       "      <td>Wendy Anderson</td>\n",
       "      <td>NaN</td>\n",
       "      <td>/m/0gcp8fv</td>\n",
       "      <td>2002</td>\n",
       "      <td>2002</td>\n",
       "      <td>4.0</td>\n",
       "      <td>Year</td>\n",
       "    </tr>\n",
       "    <tr>\n",
       "      <th>468078</th>\n",
       "      <td>12476867</td>\n",
       "      <td>/m/02w7zz8</td>\n",
       "      <td>Spliced</td>\n",
       "      <td>NaN</td>\n",
       "      <td>86.0</td>\n",
       "      <td>{\"/m/02h40lc\": \"English Language\"}</td>\n",
       "      <td>{\"/m/0d060g\": \"Canada\"}</td>\n",
       "      <td>{\"/m/01jfsb\": \"Thriller\", \"/m/03npn\": \"Horror\"...</td>\n",
       "      <td>NaN</td>\n",
       "      <td>NaN</td>\n",
       "      <td>NaN</td>\n",
       "      <td>NaN</td>\n",
       "      <td>NaN</td>\n",
       "      <td>Ariel Bastian</td>\n",
       "      <td>NaN</td>\n",
       "      <td>/m/0gdkb51</td>\n",
       "      <td>2002</td>\n",
       "      <td>2002</td>\n",
       "      <td>4.0</td>\n",
       "      <td>Year</td>\n",
       "    </tr>\n",
       "    <tr>\n",
       "      <th>468079</th>\n",
       "      <td>12476867</td>\n",
       "      <td>/m/02w7zz8</td>\n",
       "      <td>Spliced</td>\n",
       "      <td>NaN</td>\n",
       "      <td>86.0</td>\n",
       "      <td>{\"/m/02h40lc\": \"English Language\"}</td>\n",
       "      <td>{\"/m/0d060g\": \"Canada\"}</td>\n",
       "      <td>{\"/m/01jfsb\": \"Thriller\", \"/m/03npn\": \"Horror\"...</td>\n",
       "      <td>NaN</td>\n",
       "      <td>NaN</td>\n",
       "      <td>NaN</td>\n",
       "      <td>NaN</td>\n",
       "      <td>NaN</td>\n",
       "      <td>Jared Van Snellenberg</td>\n",
       "      <td>NaN</td>\n",
       "      <td>/m/0gdndlw</td>\n",
       "      <td>2002</td>\n",
       "      <td>2002</td>\n",
       "      <td>4.0</td>\n",
       "      <td>Year</td>\n",
       "    </tr>\n",
       "  </tbody>\n",
       "</table>\n",
       "<p>468080 rows × 20 columns</p>\n",
       "</div>"
      ],
      "text/plain": [
       "        Wikipedia movie ID Freebase movie ID      Movie name  \\\n",
       "0                   975900         /m/03vyhn  Ghosts of Mars   \n",
       "1                   975900         /m/03vyhn  Ghosts of Mars   \n",
       "2                   975900         /m/03vyhn  Ghosts of Mars   \n",
       "3                   975900         /m/03vyhn  Ghosts of Mars   \n",
       "4                   975900         /m/03vyhn  Ghosts of Mars   \n",
       "...                    ...               ...             ...   \n",
       "468075            12476867        /m/02w7zz8         Spliced   \n",
       "468076            12476867        /m/02w7zz8         Spliced   \n",
       "468077            12476867        /m/02w7zz8         Spliced   \n",
       "468078            12476867        /m/02w7zz8         Spliced   \n",
       "468079            12476867        /m/02w7zz8         Spliced   \n",
       "\n",
       "        Movie box office revenue  Movie runtime  \\\n",
       "0                     14010832.0           98.0   \n",
       "1                     14010832.0           98.0   \n",
       "2                     14010832.0           98.0   \n",
       "3                     14010832.0           98.0   \n",
       "4                     14010832.0           98.0   \n",
       "...                          ...            ...   \n",
       "468075                       NaN           86.0   \n",
       "468076                       NaN           86.0   \n",
       "468077                       NaN           86.0   \n",
       "468078                       NaN           86.0   \n",
       "468079                       NaN           86.0   \n",
       "\n",
       "                           Movie languages  \\\n",
       "0       {\"/m/02h40lc\": \"English Language\"}   \n",
       "1       {\"/m/02h40lc\": \"English Language\"}   \n",
       "2       {\"/m/02h40lc\": \"English Language\"}   \n",
       "3       {\"/m/02h40lc\": \"English Language\"}   \n",
       "4       {\"/m/02h40lc\": \"English Language\"}   \n",
       "...                                    ...   \n",
       "468075  {\"/m/02h40lc\": \"English Language\"}   \n",
       "468076  {\"/m/02h40lc\": \"English Language\"}   \n",
       "468077  {\"/m/02h40lc\": \"English Language\"}   \n",
       "468078  {\"/m/02h40lc\": \"English Language\"}   \n",
       "468079  {\"/m/02h40lc\": \"English Language\"}   \n",
       "\n",
       "                                  Movie countries  \\\n",
       "0       {\"/m/09c7w0\": \"United States of America\"}   \n",
       "1       {\"/m/09c7w0\": \"United States of America\"}   \n",
       "2       {\"/m/09c7w0\": \"United States of America\"}   \n",
       "3       {\"/m/09c7w0\": \"United States of America\"}   \n",
       "4       {\"/m/09c7w0\": \"United States of America\"}   \n",
       "...                                           ...   \n",
       "468075                    {\"/m/0d060g\": \"Canada\"}   \n",
       "468076                    {\"/m/0d060g\": \"Canada\"}   \n",
       "468077                    {\"/m/0d060g\": \"Canada\"}   \n",
       "468078                    {\"/m/0d060g\": \"Canada\"}   \n",
       "468079                    {\"/m/0d060g\": \"Canada\"}   \n",
       "\n",
       "                                             Movie genres  \\\n",
       "0       {\"/m/01jfsb\": \"Thriller\", \"/m/06n90\": \"Science...   \n",
       "1       {\"/m/01jfsb\": \"Thriller\", \"/m/06n90\": \"Science...   \n",
       "2       {\"/m/01jfsb\": \"Thriller\", \"/m/06n90\": \"Science...   \n",
       "3       {\"/m/01jfsb\": \"Thriller\", \"/m/06n90\": \"Science...   \n",
       "4       {\"/m/01jfsb\": \"Thriller\", \"/m/06n90\": \"Science...   \n",
       "...                                                   ...   \n",
       "468075  {\"/m/01jfsb\": \"Thriller\", \"/m/03npn\": \"Horror\"...   \n",
       "468076  {\"/m/01jfsb\": \"Thriller\", \"/m/03npn\": \"Horror\"...   \n",
       "468077  {\"/m/01jfsb\": \"Thriller\", \"/m/03npn\": \"Horror\"...   \n",
       "468078  {\"/m/01jfsb\": \"Thriller\", \"/m/03npn\": \"Horror\"...   \n",
       "468079  {\"/m/01jfsb\": \"Thriller\", \"/m/03npn\": \"Horror\"...   \n",
       "\n",
       "                    Character Name   Actor DOB Actor gender  Actor height  \\\n",
       "0                         Akooshay  1958-08-26            F         1.620   \n",
       "1       Lieutenant Melanie Ballard  1974-08-15            F         1.780   \n",
       "2              Desolation Williams  1969-06-15            M         1.727   \n",
       "3               Sgt Jericho Butler  1967-09-12            M         1.750   \n",
       "4                  Bashira Kincaid  1977-09-25            F         1.650   \n",
       "...                            ...         ...          ...           ...   \n",
       "468075                         NaN         NaN          NaN           NaN   \n",
       "468076                         NaN  1982-01-28          NaN           NaN   \n",
       "468077                         NaN         NaN            F           NaN   \n",
       "468078                         NaN         NaN          NaN           NaN   \n",
       "468079                         NaN         NaN          NaN           NaN   \n",
       "\n",
       "       Actor ethnicity             Actor Name  Actor age at movie release  \\\n",
       "0                  NaN         Wanda De Jesus                        42.0   \n",
       "1           /m/044038p     Natasha Henstridge                        27.0   \n",
       "2              /m/0x67               Ice Cube                        32.0   \n",
       "3                  NaN          Jason Statham                        33.0   \n",
       "4                  NaN            Clea DuVall                        23.0   \n",
       "...                ...                    ...                         ...   \n",
       "468075             NaN           Billy Morton                         NaN   \n",
       "468076             NaN           Andrea Runge                        19.0   \n",
       "468077             NaN         Wendy Anderson                         NaN   \n",
       "468078             NaN          Ariel Bastian                         NaN   \n",
       "468079             NaN  Jared Van Snellenberg                         NaN   \n",
       "\n",
       "       Freebase character map Release Date  Year Release Date State  \\\n",
       "0                  /m/0bgchxw   2001-08-24  2001               Full   \n",
       "1                   /m/0jys3m   2001-08-24  2001               Full   \n",
       "2                   /m/0jys3g   2001-08-24  2001               Full   \n",
       "3                  /m/02vchl6   2001-08-24  2001               Full   \n",
       "4                  /m/02vbb3r   2001-08-24  2001               Full   \n",
       "...                       ...          ...   ...                ...   \n",
       "468075             /m/0gchkcy         2002  2002                4.0   \n",
       "468076             /m/0gckh4f         2002  2002                4.0   \n",
       "468077             /m/0gcp8fv         2002  2002                4.0   \n",
       "468078             /m/0gdkb51         2002  2002                4.0   \n",
       "468079             /m/0gdndlw         2002  2002                4.0   \n",
       "\n",
       "       Release Date v  \n",
       "0                Full  \n",
       "1                Full  \n",
       "2                Full  \n",
       "3                Full  \n",
       "4                Full  \n",
       "...               ...  \n",
       "468075           Year  \n",
       "468076           Year  \n",
       "468077           Year  \n",
       "468078           Year  \n",
       "468079           Year  \n",
       "\n",
       "[468080 rows x 20 columns]"
      ]
     },
     "metadata": {},
     "output_type": "display_data"
    }
   ],
   "source": [
    "display(movie_characterDF)"
   ]
  },
  {
   "cell_type": "code",
   "execution_count": null,
   "metadata": {},
   "outputs": [],
   "source": [
    "\n",
    "\n",
    "# Create a dictionary to store the number of films released in each period\n",
    "period_release_counts = {}\n",
    "for period in range(1, 13):\n",
    "    period_release_counts[period] = (\n",
    "        full_release_films[full_release_films['Release Date'].dt.month == period].count()\n",
    "    )\n",
    "\n",
    "# Create the plot\n",
    "plt.figure(figsize=(10, 6))\n",
    "plt.bar(list(period_release_counts.keys()), list(period_release_counts.values()), color=\"#222222\")\n",
    "plt.xlabel(\"Period (Month)\")\n",
    "plt.ylabel(\"Number of Films Released\")\n",
    "plt.title(\"Number of Films Released by Period (Full Release Date State)\")\n",
    "plt.xticks(range(1, 13), [\"Jan\", \"Feb\", \"Mar\", \"Apr\", \"May\", \"Jun\", \"Jul\", \"Aug\", \"Sep\", \"Oct\", \"Nov\", \"Dec\"])\n",
    "plt.grid(axis='y', linestyle='--', alpha=0.7)\n",
    "plt.show()\n"
   ]
  },
  {
   "cell_type": "markdown",
   "metadata": {},
   "source": [
    "# Other ideas"
   ]
  },
  {
   "cell_type": "code",
   "execution_count": null,
   "metadata": {},
   "outputs": [
    {
     "name": "stdout",
     "output_type": "stream",
     "text": [
      "There are 131 unique years in the dataset.\n"
     ]
    }
   ],
   "source": [
    "# Extract the year from the 'Movie release date' column\n",
    "movieDF['Year'] = movieDF['Movie release date'].str[:4]\n",
    "\n",
    "# Get the number of unique years in the dataset\n",
    "num_years = len(movieDF['Year'].unique())\n",
    "\n",
    "# Print the number of unique years\n",
    "print(f\"There are {num_years} unique years in the dataset.\")"
   ]
  },
  {
   "cell_type": "code",
   "execution_count": null,
   "metadata": {},
   "outputs": [],
   "source": [
    "#Most common firstname in characters and in actors\n",
    "\n"
   ]
  },
  {
   "cell_type": "code",
   "execution_count": null,
   "metadata": {},
   "outputs": [],
   "source": [
    "# Most common language speaken by humans"
   ]
  }
 ],
 "metadata": {
  "kernelspec": {
   "display_name": "Python 3 (ipykernel)",
   "language": "python",
   "name": "python3"
  },
  "language_info": {
   "codemirror_mode": {
    "name": "ipython",
    "version": 3
   },
   "file_extension": ".py",
   "mimetype": "text/x-python",
   "name": "python",
   "nbconvert_exporter": "python",
   "pygments_lexer": "ipython3",
   "version": "3.10.11"
  }
 },
 "nbformat": 4,
 "nbformat_minor": 5
}
